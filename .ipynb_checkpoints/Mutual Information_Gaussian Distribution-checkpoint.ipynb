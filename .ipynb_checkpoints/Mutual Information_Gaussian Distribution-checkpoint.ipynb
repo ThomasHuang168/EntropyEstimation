{
 "cells": [
  {
   "cell_type": "code",
   "execution_count": 56,
   "metadata": {},
   "outputs": [],
   "source": [
    "import numpy as np\n",
    "import pandas as pd\n",
    "import matplotlib.pyplot as plt\n",
    "import math\n",
    "from scipy.stats import randint\n",
    "import DiscreteCondEnt as DC"
   ]
  },
  {
   "cell_type": "code",
   "execution_count": 57,
   "metadata": {},
   "outputs": [],
   "source": [
    "low, high, RVsize, numRV = 0, 1, 1000, 3\n",
    "depend = np.array([0, 1])\n",
    "rv = DC.getRandomVar_select(np.random.uniform, low, high, RVsize, numRV, depend)"
   ]
  },
  {
   "cell_type": "code",
   "execution_count": 58,
   "metadata": {},
   "outputs": [],
   "source": [
    "from sklearn.metrics import mean_squared_error\n",
    "def logMSEscorer(clf, X, y):\n",
    "    y_est = clf.predict(X)\n",
    "    return mean_squared_error(y, y_est)"
   ]
  },
  {
   "cell_type": "code",
   "execution_count": 59,
   "metadata": {},
   "outputs": [],
   "source": [
    "def varEntropy(y):\n",
    "    return np.var(y)"
   ]
  },
  {
   "cell_type": "code",
   "execution_count": 60,
   "metadata": {},
   "outputs": [
    {
     "name": "stdout",
     "output_type": "stream",
     "text": [
      "3  Discrete RVs with range [ 6.140864880810337e-05 ,  0.9998313098171179 ]\n",
      "Resp\tCond\tH(Resp|Cond)\n",
      "0 \t [1] \t 0.10864912397780487\n",
      "0 \t [2] \t 0.11554399223323066\n",
      "0 \t [2 1] \t 0.01165190303476877\n",
      "1 \t [0] \t 0.11326842179215062\n",
      "1 \t [2] \t 0.11855088735475755\n",
      "1 \t [2 0] \t 0.010118376636352438\n",
      "2 \t [0] \t 0.10464516949843143\n",
      "2 \t [1] \t 0.10785760705291962\n",
      "2 \t [1 0] \t 0.013391636196553125\n"
     ]
    }
   ],
   "source": [
    "from sklearn.neighbors import KNeighborsRegressor\n",
    "regressor = KNeighborsRegressor(n_neighbors=numRV)\n",
    "\n",
    "CVFold = 3\n",
    "Entropy = DC.computeEnt(rv, regressor,logMSEscorer, varEntropy, CVFold)"
   ]
  },
  {
   "cell_type": "code",
   "execution_count": 61,
   "metadata": {},
   "outputs": [
    {
     "data": {
      "text/plain": [
       "array([[0.08819889, 0.10864912, 0.11554399, 0.0116519 ],\n",
       "       [0.08809346, 0.11326842, 0.11855089, 0.01011838],\n",
       "       [0.0834751 , 0.10464517, 0.10785761, 0.01339164]])"
      ]
     },
     "execution_count": 61,
     "metadata": {},
     "output_type": "execute_result"
    }
   ],
   "source": [
    "Entropy"
   ]
  },
  {
   "cell_type": "code",
   "execution_count": 62,
   "metadata": {},
   "outputs": [],
   "source": [
    "from sklearn.linear_model import LinearRegression\n",
    "linReg = LinearRegression()"
   ]
  },
  {
   "cell_type": "code",
   "execution_count": 63,
   "metadata": {},
   "outputs": [],
   "source": [
    "x = np.random.multivariate_normal( mean=[0,0],\n",
    "                                  cov=[[1,1],[1,1]],\n",
    "                                 size = 300)\n",
    "x = np.transpose(x)"
   ]
  },
  {
   "cell_type": "code",
   "execution_count": 64,
   "metadata": {},
   "outputs": [
    {
     "name": "stdout",
     "output_type": "stream",
     "text": [
      "2  Discrete RVs with range [ -2.646280485721686 ,  2.9939936249292507 ]\n",
      "Resp\tCond\tH(Resp|Cond)\n",
      "0 \t [1] \t 6.089990853286903e-32\n",
      "1 \t [0] \t 4.719488887855881e-32\n"
     ]
    }
   ],
   "source": [
    "RVszie = 300\n",
    "numRV =2\n",
    "DEntropy = DC.computeEnt(x, linReg, logMSEscorer, varEntropy, CVFold)"
   ]
  },
  {
   "cell_type": "code",
   "execution_count": 65,
   "metadata": {},
   "outputs": [],
   "source": [
    "x2 = np.random.multivariate_normal( mean=[0,0],\n",
    "                                  cov=[[1,0],[0,1]],\n",
    "                                 size = 300)\n",
    "x2 = np.transpose(x2)"
   ]
  },
  {
   "cell_type": "code",
   "execution_count": 66,
   "metadata": {},
   "outputs": [
    {
     "name": "stdout",
     "output_type": "stream",
     "text": [
      "2  Discrete RVs with range [ -3.52069386350692 ,  3.435093160496355 ]\n",
      "Resp\tCond\tH(Resp|Cond)\n",
      "0 \t [1] \t 1.088242937036412\n",
      "1 \t [0] \t 0.9658545214637014\n"
     ]
    }
   ],
   "source": [
    "RVszie = 300\n",
    "numRV =2\n",
    "DEntropy2 = DC.computeEnt(x2, linReg, logMSEscorer, varEntropy, CVFold)"
   ]
  },
  {
   "cell_type": "code",
   "execution_count": 68,
   "metadata": {},
   "outputs": [
    {
     "data": {
      "text/plain": [
       "array([[9.74887669e-01, 6.08999085e-32],\n",
       "       [9.74887669e-01, 4.71948889e-32]])"
      ]
     },
     "execution_count": 68,
     "metadata": {},
     "output_type": "execute_result"
    }
   ],
   "source": [
    "DEntropy"
   ]
  },
  {
   "cell_type": "code",
   "execution_count": 71,
   "metadata": {},
   "outputs": [
    {
     "name": "stdout",
     "output_type": "stream",
     "text": [
      "0.9748876686216715 0.9748876686216712\n"
     ]
    }
   ],
   "source": [
    "#MI\n",
    "MI12_1 = DEntropy[0,0] - DEntropy[0,1]\n",
    "MI12_2 = DEntropy[1,0] - DEntropy[1,1]\n",
    "print (MI12_1, MI12_2)"
   ]
  },
  {
   "cell_type": "code",
   "execution_count": 75,
   "metadata": {},
   "outputs": [
    {
     "name": "stdout",
     "output_type": "stream",
     "text": [
      "2  Discrete RVs with range [ -3.0168171047741845 ,  3.0168171047741836 ]\n",
      "Resp\tCond\tH(Resp|Cond)\n",
      "0 \t [1] \t 7.210768980486416e-32\n",
      "1 \t [0] \t 1.2283302330613574e-31\n",
      "2  Discrete RVs with range [ -2.509732354807879 ,  2.4798027125709385 ]\n",
      "Resp\tCond\tH(Resp|Cond)\n",
      "0 \t [1] \t 0.20541323631470165\n",
      "1 \t [0] \t 0.20954598942649863\n",
      "2  Discrete RVs with range [ -2.666996585346597 ,  2.7474781679028473 ]\n",
      "Resp\tCond\tH(Resp|Cond)\n",
      "0 \t [1] \t 0.342736391033041\n",
      "1 \t [0] \t 0.37432801335263566\n",
      "2  Discrete RVs with range [ -2.639401436559567 ,  2.8581694326603033 ]\n",
      "Resp\tCond\tH(Resp|Cond)\n",
      "0 \t [1] \t 0.5261127874730067\n",
      "1 \t [0] \t 0.510614016913423\n",
      "2  Discrete RVs with range [ -3.9208025825228194 ,  3.6652513794844395 ]\n",
      "Resp\tCond\tH(Resp|Cond)\n",
      "0 \t [1] \t 0.6646364617507593\n",
      "1 \t [0] \t 0.6146263518923183\n",
      "2  Discrete RVs with range [ -2.6881913462876135 ,  3.0068315430601835 ]\n",
      "Resp\tCond\tH(Resp|Cond)\n",
      "0 \t [1] \t 0.7831633067175948\n",
      "1 \t [0] \t 0.7367078659943928\n",
      "2  Discrete RVs with range [ -3.1997903036324487 ,  3.576908729165494 ]\n",
      "Resp\tCond\tH(Resp|Cond)\n",
      "0 \t [1] \t 0.7913599414196372\n",
      "1 \t [0] \t 0.897568402977031\n",
      "2  Discrete RVs with range [ -3.624516164206626 ,  3.4700642798130525 ]\n",
      "Resp\tCond\tH(Resp|Cond)\n",
      "0 \t [1] \t 0.9226131193978909\n",
      "1 \t [0] \t 1.0681058880423795\n",
      "2  Discrete RVs with range [ -3.1549125343071207 ,  2.9952068274032215 ]\n",
      "Resp\tCond\tH(Resp|Cond)\n",
      "0 \t [1] \t 0.9742217352495581\n",
      "1 \t [0] \t 1.0266769851794664\n",
      "2  Discrete RVs with range [ -2.8213396564002347 ,  3.200846495126707 ]\n",
      "Resp\tCond\tH(Resp|Cond)\n",
      "0 \t [1] \t 1.0624545483843166\n",
      "1 \t [0] \t 0.9656350382976512\n",
      "2  Discrete RVs with range [ -4.250226098025828 ,  3.2847679708963042 ]\n",
      "Resp\tCond\tH(Resp|Cond)\n",
      "0 \t [1] \t 0.8626304338368883\n",
      "1 \t [0] \t 1.1374179364212302\n",
      "2  Discrete RVs with range [ -3.968089829899547 ,  3.0636721073221547 ]\n",
      "Resp\tCond\tH(Resp|Cond)\n",
      "0 \t [1] \t 1.009439011470181\n",
      "1 \t [0] \t 1.1093225857671436\n",
      "2  Discrete RVs with range [ -2.555179468223243 ,  2.6231696477510384 ]\n",
      "Resp\tCond\tH(Resp|Cond)\n",
      "0 \t [1] \t 0.9739067588888038\n",
      "1 \t [0] \t 0.9635176177614291\n",
      "2  Discrete RVs with range [ -2.74722593329258 ,  3.8513139033340087 ]\n",
      "Resp\tCond\tH(Resp|Cond)\n",
      "0 \t [1] \t 0.9196831986291141\n",
      "1 \t [0] \t 0.9202318990436217\n",
      "2  Discrete RVs with range [ -3.1403833550635203 ,  3.2920330978454926 ]\n",
      "Resp\tCond\tH(Resp|Cond)\n",
      "0 \t [1] \t 0.9495325066139996\n",
      "1 \t [0] \t 0.7839966350459854\n",
      "2  Discrete RVs with range [ -3.6325420098302517 ,  2.841765634712942 ]\n",
      "Resp\tCond\tH(Resp|Cond)\n",
      "0 \t [1] \t 0.8753982816163931\n",
      "1 \t [0] \t 0.7698601093886305\n",
      "2  Discrete RVs with range [ -3.5056473093135994 ,  3.035136817118466 ]\n",
      "Resp\tCond\tH(Resp|Cond)\n",
      "0 \t [1] \t 0.663232473401961\n",
      "1 \t [0] \t 0.743574939363226\n",
      "2  Discrete RVs with range [ -2.8184568484270165 ,  2.65400964671309 ]\n",
      "Resp\tCond\tH(Resp|Cond)\n",
      "0 \t [1] \t 0.49196831837165567\n",
      "1 \t [0] \t 0.4989146493279337\n",
      "2  Discrete RVs with range [ -3.005013428269103 ,  2.755803470304897 ]\n",
      "Resp\tCond\tH(Resp|Cond)\n",
      "0 \t [1] \t 0.34573254761528704\n",
      "1 \t [0] \t 0.3864560654392246\n",
      "2  Discrete RVs with range [ -2.6429363966016512 ,  2.924725093867643 ]\n",
      "Resp\tCond\tH(Resp|Cond)\n",
      "0 \t [1] \t 0.1822272495770277\n",
      "1 \t [0] \t 0.1846340167670885\n"
     ]
    },
    {
     "data": {
      "image/png": "[encoded data removed]",
      "text/plain": [
       "<Figure size 432x288 with 1 Axes>"
      ]
     },
     "metadata": {
      "needs_background": "light"
     },
     "output_type": "display_data"
    }
   ],
   "source": [
    "\n",
    "for i in range(20):\n",
    "    cov = 0.1*i -1\n",
    "    x = np.transpose(np.random.multivariate_normal( mean=[0,0],\n",
    "                                  cov=[[1,cov],[cov,1]],\n",
    "                                 size = 10000))\n",
    "    DE = DC.computeEnt(x, linReg, logMSEscorer, varEntropy, CVFold)\n",
    "    MI = DE[1,0] + DE[0,0] - DE[0,1] - DE[1,1]\n",
    "    MI = MI/2\n",
    "    plt.scatter(cov, MI, c='g')\n",
    "plt.show()"
   ]
  }
 ],
 "metadata": {
  "kernelspec": {
   "display_name": "Python 3",
   "language": "python",
   "name": "python3"
  },
  "language_info": {
   "codemirror_mode": {
    "name": "ipython",
    "version": 3
   },
   "file_extension": ".py",
   "mimetype": "text/x-python",
   "name": "python",
   "nbconvert_exporter": "python",
   "pygments_lexer": "ipython3",
   "version": "3.7.1"
  }
 },
 "nbformat": 4,
 "nbformat_minor": 2
}
