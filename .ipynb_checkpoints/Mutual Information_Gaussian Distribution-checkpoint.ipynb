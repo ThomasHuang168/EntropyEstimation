{
 "cells": [
  {
   "cell_type": "code",
   "execution_count": 17,
   "metadata": {},
   "outputs": [],
   "source": [
    "import numpy as np\n",
    "import pandas as pd\n",
    "import matplotlib.pyplot as plt\n",
    "import math\n",
    "from scipy.stats import randint\n",
    "import DiscreteCondEnt as DC"
   ]
  },
  {
   "cell_type": "code",
   "execution_count": 33,
   "metadata": {},
   "outputs": [],
   "source": [
    "from sklearn.metrics import mean_squared_error\n",
    "def MSEscorer(clf, X, y):\n",
    "    y_est = clf.predict(X)\n",
    "    return np.log(mean_squared_error(y, y_est)*3.14159*2)/2"
   ]
  },
  {
   "cell_type": "code",
   "execution_count": 34,
   "metadata": {},
   "outputs": [],
   "source": [
    "def varEntropy(y):\n",
    "    return np.log(np.var(y)*3.14159*2)/2"
   ]
  },
  {
   "cell_type": "code",
   "execution_count": 20,
   "metadata": {},
   "outputs": [],
   "source": [
    "from sklearn.linear_model import LinearRegression\n",
    "linReg = LinearRegression()"
   ]
  },
  {
   "cell_type": "code",
   "execution_count": 42,
   "metadata": {},
   "outputs": [],
   "source": [
    "from sklearn.neighbors import KNeighborsRegressor\n",
    "regressor = KNeighborsRegressor()"
   ]
  },
  {
   "cell_type": "code",
   "execution_count": 21,
   "metadata": {},
   "outputs": [],
   "source": [
    "x = np.random.multivariate_normal( mean=[0,0],\n",
    "                                  cov=[[1,1],[1,1]],\n",
    "                                 size = 300)\n",
    "x = np.transpose(x)"
   ]
  },
  {
   "cell_type": "code",
   "execution_count": 22,
   "metadata": {},
   "outputs": [],
   "source": [
    "CVFold = 3\n",
    "DEntropy = DC.computeEnt(x, linReg, MSEscorer, varEntropy, CVFold)"
   ]
  },
  {
   "cell_type": "code",
   "execution_count": 23,
   "metadata": {},
   "outputs": [],
   "source": [
    "x2 = np.random.multivariate_normal( mean=[0,0],\n",
    "                                  cov=[[1,0],[0,1]],\n",
    "                                 size = 300)\n",
    "x2 = np.transpose(x2)"
   ]
  },
  {
   "cell_type": "code",
   "execution_count": 24,
   "metadata": {},
   "outputs": [],
   "source": [
    "DEntropy2 = DC.computeEnt(x2, linReg, MSEscorer, varEntropy, CVFold)"
   ]
  },
  {
   "cell_type": "code",
   "execution_count": 25,
   "metadata": {},
   "outputs": [
    {
     "data": {
      "text/plain": [
       "array([[9.20094469e-01, 2.92948188e-32],\n",
       "       [9.20094469e-01, 2.63948274e-32]])"
      ]
     },
     "execution_count": 25,
     "metadata": {},
     "output_type": "execute_result"
    }
   ],
   "source": [
    "DEntropy"
   ]
  },
  {
   "cell_type": "code",
   "execution_count": 26,
   "metadata": {},
   "outputs": [
    {
     "name": "stdout",
     "output_type": "stream",
     "text": [
      "0.9200944688639072 0.9200944688639068\n"
     ]
    }
   ],
   "source": [
    "#MI\n",
    "MI12_1 = DEntropy[0,0] - DEntropy[0,1]\n",
    "MI12_2 = DEntropy[1,0] - DEntropy[1,1]\n",
    "print (MI12_1, MI12_2)"
   ]
  },
  {
   "cell_type": "code",
   "execution_count": 70,
   "metadata": {},
   "outputs": [],
   "source": [
    "import torch\n",
    "import torch.nn as nn\n",
    "import torch.nn.functional as F\n",
    "import torch.optim as optim\n",
    "import torch.autograd as autograd"
   ]
  },
  {
   "cell_type": "code",
   "execution_count": 71,
   "metadata": {},
   "outputs": [],
   "source": [
    "class Mine(nn.Module):\n",
    "    def __init__(self, input_size=2, hidden_size=100):\n",
    "        super().__init__()\n",
    "        self.fc1 = nn.Linear(input_size, hidden_size)\n",
    "        self.fc2 = nn.Linear(hidden_size, hidden_size)\n",
    "        self.fc3 = nn.Linear(hidden_size, 1)\n",
    "        nn.init.normal_(self.fc1.weight,std=0.02)\n",
    "        nn.init.constant_(self.fc1.bias, 0)\n",
    "        nn.init.normal_(self.fc2.weight,std=0.02)\n",
    "        nn.init.constant_(self.fc2.bias, 0)\n",
    "        nn.init.normal_(self.fc3.weight,std=0.02)\n",
    "        nn.init.constant_(self.fc3.bias, 0)\n",
    "        \n",
    "    def forward(self, input):\n",
    "        output = F.elu(self.fc1(input))\n",
    "        output = F.elu(self.fc2(output))\n",
    "        output = self.fc3(output)\n",
    "        return output"
   ]
  },
  {
   "cell_type": "code",
   "execution_count": 78,
   "metadata": {},
   "outputs": [],
   "source": [
    "def mutual_information(joint, marginal, mine_net):\n",
    "    t = mine_net(joint)\n",
    "    et = torch.exp(mine_net(marginal))\n",
    "    mi_lb = torch.mean(t) - torch.log(torch.mean(et))\n",
    "    return mi_lb, t, et\n",
    "\n",
    "def learn_mine(batch, mine_net, mine_net_optim,  ma_et, ma_rate=0.01):\n",
    "    # batch is a tuple of (joint, marginal)\n",
    "    joint , marginal = batch\n",
    "    joint = torch.autograd.Variable(torch.FloatTensor(joint))\n",
    "    marginal = torch.autograd.Variable(torch.FloatTensor(marginal))\n",
    "    mi_lb , t, et = mutual_information(joint, marginal, mine_net)\n",
    "    ma_et = (1-ma_rate)*ma_et + ma_rate*torch.mean(et)\n",
    "    \n",
    "    # unbiasing use moving average\n",
    "    loss = -(torch.mean(t) - (1/ma_et.mean()).detach()*torch.mean(et))\n",
    "    # use biased estimator\n",
    "#     loss = - mi_lb\n",
    "    \n",
    "    mine_net_optim.zero_grad()\n",
    "    autograd.backward(loss)\n",
    "    mine_net_optim.step()\n",
    "    return mi_lb, ma_et"
   ]
  },
  {
   "cell_type": "code",
   "execution_count": 73,
   "metadata": {},
   "outputs": [],
   "source": [
    "def sample_batch(data, batch_size=100, sample_mode='joint'):\n",
    "    if sample_mode == 'joint':\n",
    "        index = np.random.choice(range(data.shape[0]), size=batch_size, replace=False)\n",
    "        batch = data[index]\n",
    "    else:\n",
    "        joint_index = np.random.choice(range(data.shape[0]), size=batch_size, replace=False)\n",
    "        marginal_index = np.random.choice(range(data.shape[0]), size=batch_size, replace=False)\n",
    "        batch = np.concatenate([data[joint_index][:,0].reshape(-1,1),\n",
    "                                         data[marginal_index][:,1].reshape(-1,1)],\n",
    "                                       axis=1)\n",
    "    return batch"
   ]
  },
  {
   "cell_type": "code",
   "execution_count": 84,
   "metadata": {},
   "outputs": [],
   "source": [
    "def train(data, mine_net,mine_net_optim, batch_size=100, iter_num=int(5e+3), log_freq=int(1e+3), verbose=True):\n",
    "    # data is x or y\n",
    "    result = list()\n",
    "    ma_et = 1.\n",
    "    for i in range(iter_num):\n",
    "        batch = sample_batch(data,batch_size=batch_size)\\\n",
    "        , sample_batch(data,batch_size=batch_size,sample_mode='marginal')\n",
    "        mi_lb, ma_et = learn_mine(batch, mine_net, mine_net_optim, ma_et)\n",
    "        result.append(mi_lb.detach().cpu().numpy())\n",
    "        if verbose and (i+1)%(log_freq)==0:\n",
    "            print(result[-1])\n",
    "    return result"
   ]
  },
  {
   "cell_type": "code",
   "execution_count": 75,
   "metadata": {},
   "outputs": [],
   "source": [
    "def ma(a, window_size=100):\n",
    "    return [np.mean(a[i:i+window_size]) for i in range(0,len(a)-window_size)]"
   ]
  },
  {
   "cell_type": "code",
   "execution_count": 86,
   "metadata": {},
   "outputs": [],
   "source": [
    "x3 = np.random.multivariate_normal( mean=[0,0], cov=[[1,0],[0,1]], size = 300)\n",
    "mine_net_indep = Mine()\n",
    "mine_net_optim_indep = optim.Adam(mine_net_indep.parameters(), lr=1e-3)\n",
    "result_indep = train(x3,mine_net_indep,mine_net_optim_indep, verbose=False)"
   ]
  },
  {
   "cell_type": "code",
   "execution_count": 83,
   "metadata": {},
   "outputs": [
    {
     "name": "stdout",
     "output_type": "stream",
     "text": [
      "-1.0088212e-05\n"
     ]
    },
    {
     "data": {
      "text/plain": [
       "[<matplotlib.lines.Line2D at 0x11e00f390>]"
      ]
     },
     "execution_count": 83,
     "metadata": {},
     "output_type": "execute_result"
    },
    {
     "data": {
      "image/png": "[encoded data removed]",
      "text/plain": [
       "<Figure size 432x288 with 1 Axes>"
      ]
     },
     "metadata": {
      "needs_background": "light"
     },
     "output_type": "display_data"
    }
   ],
   "source": [
    "result_indep_ma = ma(result_indep)\n",
    "print(result_indep_ma[-1])\n",
    "plt.plot(range(len(result_indep_ma)),result_indep_ma)"
   ]
  },
  {
   "cell_type": "code",
   "execution_count": 88,
   "metadata": {},
   "outputs": [
    {
     "name": "stdout",
     "output_type": "stream",
     "text": [
      "0.7139768\n",
      "0.6316654\n",
      "0.7826391\n",
      "0.7373528\n",
      "0.71534747\n",
      "0.33773124\n",
      "0.49103215\n",
      "0.40218806\n",
      "0.4783399\n",
      "0.44352362\n",
      "0.2582965\n",
      "0.40100932\n",
      "0.21344906\n",
      "0.3392538\n",
      "0.3488893\n",
      "0.27446285\n",
      "0.1057293\n",
      "0.14917296\n",
      "0.2677378\n",
      "0.18660794\n",
      "0.097245224\n",
      "0.14853635\n",
      "0.21353453\n",
      "0.051186815\n",
      "0.10429295\n",
      "0.11462825\n",
      "-0.004557647\n",
      "0.055703018\n",
      "0.15233307\n",
      "0.05741871\n",
      "0.003936209\n",
      "-0.051913593\n",
      "0.026658354\n",
      "0.045222223\n",
      "0.030030468\n",
      "4.7496324e-05\n",
      "0.0023006122\n",
      "0.02391725\n",
      "0.03362205\n",
      "0.036872778\n",
      "0.006231467\n",
      "0.0013570078\n",
      "0.006279491\n",
      "-0.0018430948\n",
      "0.019196901\n",
      "-1.20903715e-05\n",
      "4.4165023e-05\n",
      "4.2699103e-06\n",
      "-3.7585269e-06\n",
      "-0.00031646813\n",
      "-0.0008236333\n",
      "8.823799e-06\n",
      "2.8283917e-05\n",
      "-9.653637e-05\n",
      "2.5724818e-05\n",
      "-6.722513e-05\n",
      "0.0014087242\n",
      "0.01146451\n",
      "0.013907462\n",
      "0.007841862\n",
      "0.0912253\n",
      "0.122383095\n",
      "0.056839854\n",
      "0.10575047\n",
      "0.0782597\n",
      "0.03139615\n",
      "0.22487295\n",
      "0.032391477\n",
      "0.058252454\n",
      "0.16545579\n",
      "0.1887874\n",
      "0.10880328\n",
      "0.21021816\n",
      "0.23530854\n",
      "0.08429229\n",
      "0.3004536\n",
      "0.21730933\n",
      "0.15396884\n",
      "0.20488712\n",
      "0.23025325\n",
      "0.60854334\n",
      "0.40914047\n",
      "0.3779331\n",
      "0.31298184\n",
      "0.47951263\n",
      "0.26784778\n",
      "0.655895\n",
      "0.39311054\n",
      "0.43213665\n",
      "0.68665373\n",
      "0.2409392\n",
      "0.5520464\n",
      "0.963186\n",
      "0.8936923\n",
      "0.61944497\n"
     ]
    }
   ],
   "source": [
    "MINE = []\n",
    "LinReg = []\n",
    "GT = []\n",
    "COV = np.linspace(-0.9, 0.9, 19)\n",
    "for cov in COV:\n",
    "    x = np.transpose(np.random.multivariate_normal( mean=[0,0],\n",
    "                                  cov=[[1,cov],[cov,1]],\n",
    "                                 size = 10000))\n",
    "    DE = DC.computeEnt(x, linReg, MSEscorer, varEntropy, CVFold)\n",
    "    MI = DE[1,0] + DE[0,0] - DE[0,1] - DE[1,1]\n",
    "    MI = MI/2\n",
    "    LinReg.append(MI)\n",
    "    #plt.scatter(cov, MI, c='g',label='KNN-regressor')\n",
    "    groundTruth = -0.5*np.log(1-cov*cov)\n",
    "    GT.append(groundTruth)\n",
    "    #plt.scatter(cov, groundTruth, c='r',label='ground truth')\n",
    "    \n",
    "    #MINE\n",
    "    mine_net = Mine()\n",
    "    mine_net_optim = optim.Adam(mine_net.parameters(), lr=1e-3)\n",
    "    result = train(np.transpose(x),mine_net,mine_net_optim)\n",
    "    result_ma = ma(result)\n",
    "    MINE.append(result_ma[-1])\n",
    "    #MINE\n",
    "\n",
    "#plt.legend()\n",
    "#plt.show()"
   ]
  },
  {
   "cell_type": "code",
   "execution_count": 92,
   "metadata": {},
   "outputs": [
    {
     "data": {
      "image/png": "[encoded data removed]",
      "text/plain": [
       "<Figure size 432x288 with 1 Axes>"
      ]
     },
     "metadata": {
      "needs_background": "light"
     },
     "output_type": "display_data"
    }
   ],
   "source": [
    "fig, ax = plt.subplots()\n",
    "\n",
    "ax.scatter(COV, MINE, c='b', label='MINE')\n",
    "#ax.scatter(COV, LinReg, c='r', label='Regressor')\n",
    "ax.scatter(COV, GT, c='g', label='Ground Truth')\n",
    "\n",
    "ax.legend()\n",
    "plt.show()"
   ]
  },
  {
   "cell_type": "code",
   "execution_count": 91,
   "metadata": {},
   "outputs": [
    {
     "name": "stdout",
     "output_type": "stream",
     "text": [
      "0.6838852\n",
      "0.91718066\n",
      "0.8484288\n",
      "0.78330123\n",
      "0.46787655\n",
      "2.4472227\n",
      "2.145537\n",
      "2.5620003\n",
      "1.7462051\n",
      "1.6097094\n",
      "3.2292209\n",
      "3.189553\n",
      "2.6548195\n",
      "3.2587643\n",
      "3.751107\n",
      "3.4347908\n",
      "3.327949\n",
      "3.7095993\n",
      "4.3756294\n",
      "4.9397445\n",
      "3.6102746\n",
      "4.189102\n",
      "4.8895807\n",
      "3.5474145\n",
      "4.2899437\n",
      "4.25937\n",
      "3.4531517\n",
      "4.8590817\n",
      "4.1522355\n",
      "3.581197\n",
      "3.686964\n",
      "4.629438\n",
      "8.012478\n",
      "4.9360285\n",
      "14.732037\n"
     ]
    }
   ],
   "source": [
    "MINE2 = []\n",
    "LinReg2 = []\n",
    "GT2 = []\n",
    "COV2 = []\n",
    "for i in range(1, 8):\n",
    "    cov = 1 - 0.1**i\n",
    "    COV2.append(cov)\n",
    "    x = np.transpose(np.random.multivariate_normal( mean=[0,0],\n",
    "                                  cov=[[1,cov],[cov,1]],\n",
    "                                 size = 10000))\n",
    "    DE = DC.computeEnt(x, linReg, MSEscorer, varEntropy, CVFold)\n",
    "    MI = DE[1,0] + DE[0,0] - DE[0,1] - DE[1,1]\n",
    "    MI = MI/2\n",
    "    LinReg2.append(MI)\n",
    "    #plt.scatter(cov, MI, c='g',label='KNN-regressor')\n",
    "    groundTruth = -0.5*np.log(1-cov*cov)\n",
    "    GT2.append(groundTruth)\n",
    "    #plt.scatter(cov, groundTruth, c='r',label='ground truth')\n",
    "    \n",
    "    #MINE\n",
    "    mine_net = Mine()\n",
    "    mine_net_optim = optim.Adam(mine_net.parameters(), lr=1e-3)\n",
    "    result = train(np.transpose(x),mine_net,mine_net_optim)\n",
    "    result_ma = ma(result)\n",
    "    MINE2.append(result_ma[-1])\n",
    "    #MINE\n",
    "\n",
    "#plt.legend()\n",
    "#plt.show()"
   ]
  },
  {
   "cell_type": "code",
   "execution_count": 105,
   "metadata": {},
   "outputs": [
    {
     "data": {
      "image/png": "[encoded data removed]",
      "text/plain": [
       "<Figure size 432x288 with 1 Axes>"
      ]
     },
     "metadata": {
      "needs_background": "light"
     },
     "output_type": "display_data"
    }
   ],
   "source": [
    "fig, ax = plt.subplots()\n",
    "\n",
    "ax.scatter(COV2, MINE2, c='b', label='MINE')\n",
    "ax.scatter(COV2, LinReg2, c='r', label='Regressor')\n",
    "ax.scatter(COV2, GT2, c='g', label='Ground Truth')\n",
    "\n",
    "ax.legend()\n",
    "plt.show()"
   ]
  },
  {
   "cell_type": "code",
   "execution_count": 106,
   "metadata": {},
   "outputs": [
    {
     "name": "stderr",
     "output_type": "stream",
     "text": [
      "/usr/local/lib/python3.7/site-packages/ipykernel_launcher.py:2: RuntimeWarning: divide by zero encountered in log\n",
      "  \n"
     ]
    },
    {
     "data": {
      "image/png": "[encoded data removed]",
      "text/plain": [
       "<Figure size 432x288 with 1 Axes>"
      ]
     },
     "metadata": {
      "needs_background": "light"
     },
     "output_type": "display_data"
    }
   ],
   "source": [
    "fig, ax = plt.subplots()\n",
    "COV22 = np.log(np.ones(len(COV2)) - COV2)\n",
    "ax.scatter(COV22, MINE2, c='b', label='MINE')\n",
    "ax.scatter(COV22, LinReg2, c='r', label='Regressor')\n",
    "ax.scatter(COV22, GT2, c='g', label='Ground Truth')\n",
    "\n",
    "ax.legend()\n",
    "plt.show()"
   ]
  },
  {
   "cell_type": "code",
   "execution_count": 107,
   "metadata": {},
   "outputs": [
    {
     "data": {
      "text/plain": [
       "9.210340371976184"
      ]
     },
     "execution_count": 107,
     "metadata": {},
     "output_type": "execute_result"
    }
   ],
   "source": [
    "np.log(10000)"
   ]
  },
  {
   "cell_type": "code",
   "execution_count": 104,
   "metadata": {},
   "outputs": [
    {
     "name": "stdout",
     "output_type": "stream",
     "text": [
      "4.1018114\n",
      "5.719031\n",
      "4.925558\n",
      "5.036795\n",
      "4.860683\n",
      "3.939142\n",
      "4.0863094\n",
      "3.7627614\n",
      "4.9275703\n",
      "7.447962\n",
      "3.5613244\n",
      "6.847351\n",
      "6.5556297\n",
      "6.4137144\n",
      "5.5157366\n",
      "4.077453\n",
      "6.1694155\n",
      "4.7401958\n",
      "4.2466965\n",
      "8.159683\n",
      "3.1441705\n",
      "12.408489\n",
      "5.5862813\n",
      "5.1209526\n",
      "5.0138783\n",
      "4.0317445\n",
      "3.7254608\n",
      "2.1680317\n",
      "5.194463\n",
      "5.2940736\n",
      "4.9103403\n",
      "2.9698486\n",
      "3.469598\n",
      "6.269966\n",
      "5.130463\n",
      "3.7743385\n",
      "5.3607063\n",
      "4.9128137\n",
      "4.5146365\n",
      "4.81076\n",
      "4.0846624\n",
      "4.2393556\n",
      "5.7824535\n",
      "5.574537\n",
      "3.5774617\n"
     ]
    },
    {
     "name": "stderr",
     "output_type": "stream",
     "text": [
      "/usr/local/lib/python3.7/site-packages/ipykernel_launcher.py:12: RuntimeWarning: divide by zero encountered in log\n",
      "  if sys.path[0] == '':\n"
     ]
    },
    {
     "name": "stdout",
     "output_type": "stream",
     "text": [
      "3.295353\n",
      "4.1492805\n",
      "5.19768\n",
      "4.386994\n",
      "4.258513\n"
     ]
    },
    {
     "name": "stderr",
     "output_type": "stream",
     "text": [
      "/usr/local/lib/python3.7/site-packages/ipykernel_launcher.py:12: RuntimeWarning: divide by zero encountered in log\n",
      "  if sys.path[0] == '':\n"
     ]
    },
    {
     "name": "stdout",
     "output_type": "stream",
     "text": [
      "4.225566\n",
      "3.5524883\n",
      "4.3728476\n",
      "6.1828737\n",
      "4.6994576\n"
     ]
    },
    {
     "name": "stderr",
     "output_type": "stream",
     "text": [
      "/usr/local/lib/python3.7/site-packages/ipykernel_launcher.py:12: RuntimeWarning: divide by zero encountered in log\n",
      "  if sys.path[0] == '':\n"
     ]
    },
    {
     "name": "stdout",
     "output_type": "stream",
     "text": [
      "3.9178414\n",
      "3.9703667\n",
      "6.260885\n",
      "4.112125\n",
      "4.8858256\n"
     ]
    }
   ],
   "source": [
    "for i in range(8, 20):\n",
    "    cov = 1 - 0.1**i\n",
    "    COV2.append(cov)\n",
    "    x = np.transpose(np.random.multivariate_normal( mean=[0,0],\n",
    "                                  cov=[[1,cov],[cov,1]],\n",
    "                                 size = 10000))\n",
    "    DE = DC.computeEnt(x, linReg, MSEscorer, varEntropy, CVFold)\n",
    "    MI = DE[1,0] + DE[0,0] - DE[0,1] - DE[1,1]\n",
    "    MI = MI/2\n",
    "    LinReg2.append(MI)\n",
    "    #plt.scatter(cov, MI, c='g',label='KNN-regressor')\n",
    "    groundTruth = -0.5*np.log(1-cov*cov)\n",
    "    GT2.append(groundTruth)\n",
    "    #plt.scatter(cov, groundTruth, c='r',label='ground truth')\n",
    "    \n",
    "    #MINE\n",
    "    mine_net = Mine()\n",
    "    mine_net_optim = optim.Adam(mine_net.parameters(), lr=1e-3)\n",
    "    result = train(np.transpose(x),mine_net,mine_net_optim)\n",
    "    result_ma = ma(result)\n",
    "    MINE2.append(result_ma[-1])\n",
    "    #MINE\n"
   ]
  }
 ],
 "metadata": {
  "kernelspec": {
   "display_name": "Python 3",
   "language": "python",
   "name": "python3"
  },
  "language_info": {
   "codemirror_mode": {
    "name": "ipython",
    "version": 3
   },
   "file_extension": ".py",
   "mimetype": "text/x-python",
   "name": "python",
   "nbconvert_exporter": "python",
   "pygments_lexer": "ipython3",
   "version": "3.7.0"
  }
 },
 "nbformat": 4,
 "nbformat_minor": 2
}
