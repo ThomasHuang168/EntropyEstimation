{
 "cells": [
  {
   "cell_type": "code",
   "execution_count": 1,
   "metadata": {},
   "outputs": [
    {
     "name": "stdout",
     "output_type": "stream",
     "text": [
      "[[1 0 0 ... 1 1 1]\n",
      " [1 0 0 ... 1 0 0]\n",
      " [1 1 1 ... 0 1 1]\n",
      " [1 1 1 ... 1 1 0]\n",
      " [1 0 1 ... 1 1 1]\n",
      " [0 0 0 ... 0 1 1]]\n"
     ]
    }
   ],
   "source": [
    "import numpy as np\n",
    "import pandas as pd\n",
    "import matplotlib.pyplot as plt\n",
    "import math\n",
    "from scipy.stats import randint\n",
    "import DiscreteCondEnt as DC\n",
    "\n",
    "from sklearn.metrics import mean_squared_error\n",
    "def MSEscorer(clf, X, y):\n",
    "    y_est = clf.predict(X)\n",
    "    return np.log(mean_squared_error(y, y_est)*np.pi*2)/2\n",
    "\n",
    "def varEntropy(y):\n",
    "    return np.log(np.var(y)*np.pi*2)/2\n",
    "\n",
    "from sklearn.linear_model import LinearRegression\n",
    "linReg = LinearRegression()\n",
    "\n",
    "from sklearn.neighbors import KNeighborsRegressor\n",
    "regressor = KNeighborsRegressor()\n",
    "\n",
    "# x = np.random.multivariate_normal( mean=[0,0],\n",
    "#                                   cov=[[1,1],[1,1]],\n",
    "#                                  size = 300)\n",
    "# x = np.transpose(x)\n",
    "\n",
    "low, high, RVsize, numRV = 0, 2, 1000, 6\n",
    "depend = np.array([0, 1])\n",
    "rv = DC.getRandomVar_select(randint.rvs, low, high, RVsize, numRV, depend)\n",
    "\n",
    "CVFold = 3\n",
    "DEntropy = DC.computeEnt(rv, linReg, MSEscorer, varEntropy, CVFold)"
   ]
  },
  {
   "cell_type": "code",
   "execution_count": 2,
   "metadata": {},
   "outputs": [],
   "source": [
    "# print( DEntropy[:,1:], DEntropy[:,0])\n",
    "MI = np.broadcast_to(DEntropy[:,0][:,None], DEntropy[:,1:].shape) - DEntropy[:,1:]"
   ]
  },
  {
   "cell_type": "code",
   "execution_count": 24,
   "metadata": {},
   "outputs": [
    {
     "name": "stdout",
     "output_type": "stream",
     "text": [
      "MI[[0 1 2 3 4 5]] = 1/5*E(\n",
      "MI[0,[-- 1 2 3 4 5]] + 4*MI[[-- 1 2 3 4 5]] , \n",
      "MI[1,[0 -- 2 3 4 5]] + 4*MI[[0 -- 2 3 4 5]] , \n",
      "MI[2,[0 1 -- 3 4 5]] + 4*MI[[0 1 -- 3 4 5]] , \n",
      "MI[3,[0 1 2 -- 4 5]] + 4*MI[[0 1 2 -- 4 5]] , \n",
      "MI[4,[0 1 2 3 -- 5]] + 4*MI[[0 1 2 3 -- 5]] , \n",
      "MI[5,[0 1 2 3 4 --]] + 4*MI[[0 1 2 3 4 --]]\n",
      ") = -0.0030892566145769244\n"
     ]
    },
    {
     "data": {
      "text/plain": [
       "-0.0030892566145769244"
      ]
     },
     "execution_count": 24,
     "metadata": {},
     "output_type": "execute_result"
    }
   ],
   "source": [
    "# MI\n",
    "#assume sset is a one-dimensional array\n",
    "# sprev[]\n",
    "# for i in sset.size:\n",
    "#     resp = sset[i]\n",
    "#     snext[]\n",
    "#     if i >= \n",
    "#     for j in range(i+1, sset.size):\n",
    "#         snext.append(sset[j])\n",
    "#     #compute\n",
    "#     sprev.append(sset[i])\n",
    "#123=E[{1|23},{2|13},{3|12}]\n",
    "index = np.ma.array(np.arange(numRV), mask=False)\n",
    "j = 0\n",
    "def MMI(index, j, MI):\n",
    "    setSize = index.size - np.ma.count_masked(index)\n",
    "    MI_set = 0\n",
    "    k = 0\n",
    "    j_set = 0\n",
    "    if (setSize > 1):\n",
    "        if (j == j_set):\n",
    "            print (\"MI[{0}] = 1/{1}*E(\".format(index, setSize -1))\n",
    "        for i in range(index.size):\n",
    "            if (index.mask[i] == False):\n",
    "                index.mask[i] = True\n",
    "                ci = DC.ConditionIndex(numRV, i, index) - 1\n",
    "                MI_set += MI[i,int(ci)]\n",
    "                if (j == j_set):\n",
    "                    print(\"MI[{0},{1}] \".format(i,index), end = '')\n",
    "                if (np.ma.count_masked(index) < index.size):\n",
    "                    j_next = j + 1\n",
    "                    subMI = MMI(index, j_next, MI)\n",
    "                    MI_set += subMI*(setSize - 2)\n",
    "                    if (j == j_set):\n",
    "                        print(\"+ {0}*MI[{1}]\".format(setSize-2, index), end='')\n",
    "                index.mask[i] = False\n",
    "                k += 1\n",
    "                if (k < setSize):\n",
    "                    if (j == j_set):\n",
    "                        print(\" , \")\n",
    "                else:\n",
    "                    if (j == j_set):\n",
    "                        print(\"\")\n",
    "                    break\n",
    "        MI_set /= (setSize - 1)\n",
    "        MI_set /= setSize\n",
    "        if (j == j_set):\n",
    "            print (\") = {0}\".format(MI_set))\n",
    "    return MI_set\n",
    "MMI(index, j, MI)"
   ]
  },
  {
   "cell_type": "raw",
   "metadata": {},
   "source": [
    "for i in range(1,1)"
   ]
  }
 ],
 "metadata": {
  "kernelspec": {
   "display_name": "Python 3",
   "language": "python",
   "name": "python3"
  },
  "language_info": {
   "codemirror_mode": {
    "name": "ipython",
    "version": 3
   },
   "file_extension": ".py",
   "mimetype": "text/x-python",
   "name": "python",
   "nbconvert_exporter": "python",
   "pygments_lexer": "ipython3",
   "version": "3.7.0"
  }
 },
 "nbformat": 4,
 "nbformat_minor": 2
}
