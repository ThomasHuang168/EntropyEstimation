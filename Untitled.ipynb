{
 "cells": [
  {
   "cell_type": "code",
   "execution_count": 17,
   "metadata": {},
   "outputs": [],
   "source": [
    "import numpy as np\n",
    "import pandas as pd\n",
    "import matplotlib.pyplot as plt\n",
    "import math\n",
    "from scipy.stats import randint\n",
    "import DiscreteCondEnt as DC"
   ]
  },
  {
   "cell_type": "code",
   "execution_count": 18,
   "metadata": {},
   "outputs": [],
   "source": [
    "low, high, RVsize, numRV = 0, 1, 1000, 3\n",
    "depend = np.array([0, 1])\n",
    "rv = DC.getRandomVar_select(np.random.uniform, low, high, RVsize, numRV, depend)"
   ]
  },
  {
   "cell_type": "code",
   "execution_count": 19,
   "metadata": {},
   "outputs": [],
   "source": [
    "from sklearn.metrics import mean_squared_error\n",
    "def logMSEscorer(clf, X, y):\n",
    "    y_est = clf.predict(X)\n",
    "    return np.log(mean_squared_error(y, y_est))"
   ]
  },
  {
   "cell_type": "code",
   "execution_count": 20,
   "metadata": {},
   "outputs": [],
   "source": [
    "def varEntropy(y):\n",
    "    return -1*np.log(np.var(y))"
   ]
  },
  {
   "cell_type": "code",
   "execution_count": 21,
   "metadata": {},
   "outputs": [
    {
     "name": "stdout",
     "output_type": "stream",
     "text": [
      "3  Discrete RVs with range [ 9.299941482787677e-05 ,  0.9998630277350921 ]\n",
      "Resp\tCond\tH(Resp|Cond)\n",
      "0 \t [1] \t -2.161165897075166\n",
      "0 \t [2] \t -2.22084646858732\n",
      "0 \t [2 1] \t -4.185864474156633\n",
      "1 \t [0] \t -2.123373873634089\n",
      "1 \t [2] \t -2.210699319811957\n",
      "1 \t [2 0] \t -4.154669150026275\n",
      "2 \t [0] \t -2.234828296044762\n",
      "2 \t [1] \t -2.198337925505839\n",
      "2 \t [1 0] \t -4.420911303329844\n"
     ]
    }
   ],
   "source": [
    "from sklearn.neighbors import KNeighborsRegressor\n",
    "regressor = KNeighborsRegressor(n_neighbors=numRV)\n",
    "\n",
    "CVFold = 3\n",
    "Entropy = DC.computeEnt(rv, regressor,logMSEscorer, varEntropy, CVFold)"
   ]
  },
  {
   "cell_type": "code",
   "execution_count": 22,
   "metadata": {},
   "outputs": [
    {
     "data": {
      "text/plain": [
       "array([[ 2.47032242, -2.1611659 , -2.22084647, -4.18586447],\n",
       "       [ 2.44391589, -2.12337387, -2.21069932, -4.15466915],\n",
       "       [ 2.50755366, -2.2348283 , -2.19833793, -4.4209113 ]])"
      ]
     },
     "execution_count": 22,
     "metadata": {},
     "output_type": "execute_result"
    }
   ],
   "source": [
    "Entropy"
   ]
  },
  {
   "cell_type": "code",
   "execution_count": 33,
   "metadata": {},
   "outputs": [],
   "source": [
    "from sklearn.linear_model import LinearRegression\n",
    "linReg = LinearRegression()"
   ]
  },
  {
   "cell_type": "code",
   "execution_count": 34,
   "metadata": {},
   "outputs": [],
   "source": [
    "x = np.random.multivariate_normal( mean=[0,0],\n",
    "                                  cov=[[1,0.8],[0.8,1]],\n",
    "                                 size = 300)\n",
    "x = np.transpose(x)"
   ]
  },
  {
   "cell_type": "code",
   "execution_count": 35,
   "metadata": {},
   "outputs": [
    {
     "name": "stdout",
     "output_type": "stream",
     "text": [
      "2  Discrete RVs with range [ -3.3817857997825715 ,  3.1736249785480277 ]\n",
      "Resp\tCond\tH(Resp|Cond)\n",
      "0 \t [1] \t -0.9856293632088221\n",
      "1 \t [0] \t -0.8989496294778915\n"
     ]
    }
   ],
   "source": [
    "RVszie = 300\n",
    "numRV =2\n",
    "DEntropy = DC.computeEnt(x, linReg, logMSEscorer, varEntropy, CVFold)"
   ]
  },
  {
   "cell_type": "code",
   "execution_count": 38,
   "metadata": {},
   "outputs": [],
   "source": [
    "x2 = np.random.multivariate_normal( mean=[0,0],\n",
    "                                  cov=[[1,0],[0,1]],\n",
    "                                 size = 300)\n",
    "x2 = np.transpose(x2)"
   ]
  },
  {
   "cell_type": "code",
   "execution_count": 39,
   "metadata": {},
   "outputs": [
    {
     "name": "stdout",
     "output_type": "stream",
     "text": [
      "2  Discrete RVs with range [ -3.187230395543621 ,  2.745114347193813 ]\n",
      "Resp\tCond\tH(Resp|Cond)\n",
      "0 \t [1] \t 0.0025981259573578572\n",
      "1 \t [0] \t -0.06843572431463661\n"
     ]
    }
   ],
   "source": [
    "RVszie = 300\n",
    "numRV =2\n",
    "DEntropy2 = DC.computeEnt(x2, linReg, logMSEscorer, varEntropy, CVFold)"
   ]
  }
 ],
 "metadata": {
  "kernelspec": {
   "display_name": "Python 3",
   "language": "python",
   "name": "python3"
  },
  "language_info": {
   "codemirror_mode": {
    "name": "ipython",
    "version": 3
   },
   "file_extension": ".py",
   "mimetype": "text/x-python",
   "name": "python",
   "nbconvert_exporter": "python",
   "pygments_lexer": "ipython3",
   "version": "3.7.1"
  }
 },
 "nbformat": 4,
 "nbformat_minor": 2
}
