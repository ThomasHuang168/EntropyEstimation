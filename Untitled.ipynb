{
 "cells": [
  {
   "cell_type": "code",
   "execution_count": 2,
   "metadata": {},
   "outputs": [],
   "source": [
    "import torch\n",
    "import torch.distributions as dist\n",
    "import torch.nn as nn\n",
    "import torch.optim as optim\n",
    "\n",
    "def build_cov_matrix(rho):\n",
    "    return torch.tensor([\n",
    "        [1, 0, 0, rho],\n",
    "        [0, 1, rho, 0],\n",
    "        [0, rho, 1, 0],\n",
    "        [rho, 0, 0, 1]]\n",
    "    ).float()\n",
    "\n",
    "\n",
    "lr = 0.001\n",
    "last_lr = 0.000001\n",
    "batch_size = 128\n",
    "total_iters = 2000\n",
    "display_step = 400\n",
    "\n",
    "\n",
    "def mi_theta(T, pos, neg):\n",
    "    return T(pos).mean() - T(neg).exp().mean().log()"
   ]
  },
  {
   "cell_type": "code",
   "execution_count": 5,
   "metadata": {},
   "outputs": [],
   "source": [
    "cov = 0.5\n",
    "cov_matrix = build_cov_matrix(cov)"
   ]
  },
  {
   "cell_type": "code",
   "execution_count": 7,
   "metadata": {},
   "outputs": [],
   "source": [
    "import numpy as np\n",
    "covn = np.array(cov_matrix)"
   ]
  },
  {
   "cell_type": "code",
   "execution_count": 11,
   "metadata": {},
   "outputs": [
    {
     "name": "stdout",
     "output_type": "stream",
     "text": [
      "MultivariateNormal(loc: torch.Size([4]), covariance_matrix: torch.Size([4, 4]))\n",
      "MultivariateNormal(loc: torch.Size([2]), covariance_matrix: torch.Size([2, 2]))\n",
      "[[1.  0.  0.  0.5]\n",
      " [0.  1.  0.5 0. ]\n",
      " [0.  0.5 1.  0. ]\n",
      " [0.5 0.  0.  1. ]]\n",
      "[[1. 0.]\n",
      " [0. 1.]]\n",
      "[[1. 0.]\n",
      " [0. 1.]]\n",
      "\n"
     ]
    }
   ],
   "source": [
    "X_ab = dist.MultivariateNormal(torch.zeros(4), cov_matrix)\n",
    "X_b = dist.MultivariateNormal(torch.zeros(2), cov_matrix[2:, 2:])\n",
    "print (np.array(X_ab))\n",
    "print (np.array(X_b))\n",
    "print (np.array(cov_matrix))\n",
    "print (np.array(cov_matrix[2:, 2:]))\n",
    "print (covn[2:, 2:])\n"
   ]
  }
 ],
 "metadata": {
  "kernelspec": {
   "display_name": "Python 3",
   "language": "python",
   "name": "python3"
  },
  "language_info": {
   "codemirror_mode": {
    "name": "ipython",
    "version": 3
   },
   "file_extension": ".py",
   "mimetype": "text/x-python",
   "name": "python",
   "nbconvert_exporter": "python",
   "pygments_lexer": "ipython3",
   "version": "3.7.0"
  }
 },
 "nbformat": 4,
 "nbformat_minor": 2
}
