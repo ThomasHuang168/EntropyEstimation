{
 "cells": [
  {
   "cell_type": "code",
   "execution_count": 56,
   "metadata": {},
   "outputs": [],
   "source": [
    "import numpy as np\n",
    "import pandas as pd\n",
    "import matplotlib.pyplot as plt\n",
    "import math\n",
    "from scipy.stats import randint\n",
    "import DiscreteCondEnt as DC"
   ]
  },
  {
   "cell_type": "code",
   "execution_count": 57,
   "metadata": {},
   "outputs": [],
   "source": [
    "low, high, RVsize, numRV = 0, 1, 1000, 3\n",
    "depend = np.array([0, 1])\n",
    "rv = DC.getRandomVar_select(np.random.uniform, low, high, RVsize, numRV, depend)"
   ]
  },
  {
   "cell_type": "code",
   "execution_count": 58,
   "metadata": {},
   "outputs": [],
   "source": [
    "from sklearn.metrics import mean_squared_error\n",
    "def logMSEscorer(clf, X, y):\n",
    "    y_est = clf.predict(X)\n",
    "    return mean_squared_error(y, y_est)"
   ]
  },
  {
   "cell_type": "code",
   "execution_count": 59,
   "metadata": {},
   "outputs": [],
   "source": [
    "def varEntropy(y):\n",
    "    return np.var(y)"
   ]
  },
  {
   "cell_type": "code",
   "execution_count": 60,
   "metadata": {},
   "outputs": [
    {
     "name": "stdout",
     "output_type": "stream",
     "text": [
      "3  Discrete RVs with range [ 6.140864880810337e-05 ,  0.9998313098171179 ]\n",
      "Resp\tCond\tH(Resp|Cond)\n",
      "0 \t [1] \t 0.10864912397780487\n",
      "0 \t [2] \t 0.11554399223323066\n",
      "0 \t [2 1] \t 0.01165190303476877\n",
      "1 \t [0] \t 0.11326842179215062\n",
      "1 \t [2] \t 0.11855088735475755\n",
      "1 \t [2 0] \t 0.010118376636352438\n",
      "2 \t [0] \t 0.10464516949843143\n",
      "2 \t [1] \t 0.10785760705291962\n",
      "2 \t [1 0] \t 0.013391636196553125\n"
     ]
    }
   ],
   "source": [
    "from sklearn.neighbors import KNeighborsRegressor\n",
    "regressor = KNeighborsRegressor(n_neighbors=numRV)\n",
    "\n",
    "CVFold = 3\n",
    "Entropy = DC.computeEnt(rv, regressor,logMSEscorer, varEntropy, CVFold)"
   ]
  },
  {
   "cell_type": "code",
   "execution_count": 61,
   "metadata": {},
   "outputs": [
    {
     "data": {
      "text/plain": [
       "array([[0.08819889, 0.10864912, 0.11554399, 0.0116519 ],\n",
       "       [0.08809346, 0.11326842, 0.11855089, 0.01011838],\n",
       "       [0.0834751 , 0.10464517, 0.10785761, 0.01339164]])"
      ]
     },
     "execution_count": 61,
     "metadata": {},
     "output_type": "execute_result"
    }
   ],
   "source": [
    "Entropy"
   ]
  },
  {
   "cell_type": "code",
   "execution_count": 62,
   "metadata": {},
   "outputs": [],
   "source": [
    "from sklearn.linear_model import LinearRegression\n",
    "linReg = LinearRegression()"
   ]
  },
  {
   "cell_type": "code",
   "execution_count": 63,
   "metadata": {},
   "outputs": [],
   "source": [
    "x = np.random.multivariate_normal( mean=[0,0],\n",
    "                                  cov=[[1,1],[1,1]],\n",
    "                                 size = 300)\n",
    "x = np.transpose(x)"
   ]
  },
  {
   "cell_type": "code",
   "execution_count": 64,
   "metadata": {},
   "outputs": [
    {
     "name": "stdout",
     "output_type": "stream",
     "text": [
      "2  Discrete RVs with range [ -2.646280485721686 ,  2.9939936249292507 ]\n",
      "Resp\tCond\tH(Resp|Cond)\n",
      "0 \t [1] \t 6.089990853286903e-32\n",
      "1 \t [0] \t 4.719488887855881e-32\n"
     ]
    }
   ],
   "source": [
    "RVszie = 300\n",
    "numRV =2\n",
    "DEntropy = DC.computeEnt(x, linReg, logMSEscorer, varEntropy, CVFold)"
   ]
  },
  {
   "cell_type": "code",
   "execution_count": 65,
   "metadata": {},
   "outputs": [],
   "source": [
    "x2 = np.random.multivariate_normal( mean=[0,0],\n",
    "                                  cov=[[1,0],[0,1]],\n",
    "                                 size = 300)\n",
    "x2 = np.transpose(x2)"
   ]
  },
  {
   "cell_type": "code",
   "execution_count": 66,
   "metadata": {},
   "outputs": [
    {
     "name": "stdout",
     "output_type": "stream",
     "text": [
      "2  Discrete RVs with range [ -3.52069386350692 ,  3.435093160496355 ]\n",
      "Resp\tCond\tH(Resp|Cond)\n",
      "0 \t [1] \t 1.088242937036412\n",
      "1 \t [0] \t 0.9658545214637014\n"
     ]
    }
   ],
   "source": [
    "RVszie = 300\n",
    "numRV =2\n",
    "DEntropy2 = DC.computeEnt(x2, linReg, logMSEscorer, varEntropy, CVFold)"
   ]
  },
  {
   "cell_type": "code",
   "execution_count": 68,
   "metadata": {},
   "outputs": [
    {
     "data": {
      "text/plain": [
       "array([[9.74887669e-01, 6.08999085e-32],\n",
       "       [9.74887669e-01, 4.71948889e-32]])"
      ]
     },
     "execution_count": 68,
     "metadata": {},
     "output_type": "execute_result"
    }
   ],
   "source": [
    "DEntropy"
   ]
  },
  {
   "cell_type": "code",
   "execution_count": 71,
   "metadata": {},
   "outputs": [
    {
     "name": "stdout",
     "output_type": "stream",
     "text": [
      "0.9748876686216715 0.9748876686216712\n"
     ]
    }
   ],
   "source": [
    "#MI\n",
    "MI12_1 = DEntropy[0,0] - DEntropy[0,1]\n",
    "MI12_2 = DEntropy[1,0] - DEntropy[1,1]\n",
    "print (MI12_1, MI12_2)"
   ]
  },
  {
   "cell_type": "code",
   "execution_count": 77,
   "metadata": {},
   "outputs": [
    {
     "name": "stdout",
     "output_type": "stream",
     "text": [
      "2  Discrete RVs with range [ -4.063882241487418 ,  4.063882241487417 ]\n",
      "Resp\tCond\tH(Resp|Cond)\n",
      "0 \t [1] \t 4.138620201676796e-30\n",
      "1 \t [0] \t 3.986845078017462e-30\n",
      "2  Discrete RVs with range [ -4.1233682583373925 ,  3.8781480411120954 ]\n",
      "Resp\tCond\tH(Resp|Cond)\n",
      "0 \t [1] \t 0.19218264630510026\n",
      "1 \t [0] \t 0.19216209963961403\n",
      "2  Discrete RVs with range [ -4.347675273288784 ,  3.956475824967038 ]\n",
      "Resp\tCond\tH(Resp|Cond)\n",
      "0 \t [1] \t 0.36474018644820044\n",
      "1 \t [0] \t 0.3640182761374522\n",
      "2  Discrete RVs with range [ -4.3327982950021005 ,  4.247271422008856 ]\n",
      "Resp\tCond\tH(Resp|Cond)\n",
      "0 \t [1] \t 0.5129074589463453\n",
      "1 \t [0] \t 0.510096385374067\n",
      "2  Discrete RVs with range [ -3.9578484990265816 ,  4.010018066452294 ]\n",
      "Resp\tCond\tH(Resp|Cond)\n"
     ]
    },
    {
     "name": "stderr",
     "output_type": "stream",
     "text": [
      "/Users/eye/anaconda3/lib/python3.7/site-packages/ipykernel_launcher.py:11: RuntimeWarning: divide by zero encountered in log\n",
      "  # This is added back by InteractiveShellApp.init_path()\n"
     ]
    },
    {
     "name": "stdout",
     "output_type": "stream",
     "text": [
      "0 \t [1] \t 0.6423126139517881\n",
      "1 \t [0] \t 0.6421312559024873\n",
      "2  Discrete RVs with range [ -4.124416828176788 ,  4.036813444594642 ]\n",
      "Resp\tCond\tH(Resp|Cond)\n",
      "0 \t [1] \t 0.7498367310491355\n",
      "1 \t [0] \t 0.7619419820631995\n",
      "2  Discrete RVs with range [ -4.462735153123 ,  4.406274829242062 ]\n",
      "Resp\tCond\tH(Resp|Cond)\n",
      "0 \t [1] \t 0.8339441029697027\n",
      "1 \t [0] \t 0.8348588299402211\n",
      "2  Discrete RVs with range [ -4.475116118605216 ,  3.9896638743446324 ]\n",
      "Resp\tCond\tH(Resp|Cond)\n",
      "0 \t [1] \t 0.9132377113898275\n",
      "1 \t [0] \t 0.9052114117442832\n",
      "2  Discrete RVs with range [ -4.456405586326958 ,  3.842107234504159 ]\n",
      "Resp\tCond\tH(Resp|Cond)\n",
      "0 \t [1] \t 0.9634939041320448\n",
      "1 \t [0] \t 0.9734879726123387\n",
      "2  Discrete RVs with range [ -4.13135458105214 ,  3.982798529589361 ]\n",
      "Resp\tCond\tH(Resp|Cond)\n",
      "0 \t [1] \t 0.9714739698288956\n",
      "1 \t [0] \t 0.9975521832834939\n",
      "2  Discrete RVs with range [ -4.845462579902984 ,  4.224651006505937 ]\n",
      "Resp\tCond\tH(Resp|Cond)\n",
      "0 \t [1] \t 1.0141543757574536\n",
      "1 \t [0] \t 1.0174679376884868\n",
      "2  Discrete RVs with range [ -3.7571749848892693 ,  4.003194152243498 ]\n",
      "Resp\tCond\tH(Resp|Cond)\n",
      "0 \t [1] \t 1.0023259652714172\n",
      "1 \t [0] \t 1.0019965118845464\n",
      "2  Discrete RVs with range [ -3.695965609716456 ,  4.011671659049638 ]\n",
      "Resp\tCond\tH(Resp|Cond)\n",
      "0 \t [1] \t 0.9676191662099277\n",
      "1 \t [0] \t 0.9510106511681983\n",
      "2  Discrete RVs with range [ -4.597646332772345 ,  4.179772854705179 ]\n",
      "Resp\tCond\tH(Resp|Cond)\n",
      "0 \t [1] \t 0.9068120122701598\n",
      "1 \t [0] \t 0.9199031770655983\n",
      "2  Discrete RVs with range [ -3.9382798895574824 ,  3.678411842468314 ]\n",
      "Resp\tCond\tH(Resp|Cond)\n",
      "0 \t [1] \t 0.8353308657837935\n",
      "1 \t [0] \t 0.8418775910002535\n",
      "2  Discrete RVs with range [ -3.496381894487517 ,  4.198109649474844 ]\n",
      "Resp\tCond\tH(Resp|Cond)\n",
      "0 \t [1] \t 0.7406196302767767\n",
      "1 \t [0] \t 0.7348421332640039\n",
      "2  Discrete RVs with range [ -3.8891784556526754 ,  3.870557231135005 ]\n",
      "Resp\tCond\tH(Resp|Cond)\n",
      "0 \t [1] \t 0.6352985225819286\n",
      "1 \t [0] \t 0.6364828406481232\n",
      "2  Discrete RVs with range [ -4.234731001653387 ,  3.778053840935274 ]\n",
      "Resp\tCond\tH(Resp|Cond)\n",
      "0 \t [1] \t 0.4983793491688073\n",
      "1 \t [0] \t 0.5038703964494987\n",
      "2  Discrete RVs with range [ -3.83417822173945 ,  3.76158371159722 ]\n",
      "Resp\tCond\tH(Resp|Cond)\n",
      "0 \t [1] \t 0.3627129353665934\n",
      "1 \t [0] \t 0.36281362791603566\n",
      "2  Discrete RVs with range [ -4.00829174604308 ,  4.21356608470144 ]\n",
      "Resp\tCond\tH(Resp|Cond)\n",
      "0 \t [1] \t 0.19063645727826536\n",
      "1 \t [0] \t 0.18885144795397335\n"
     ]
    },
    {
     "data": {
      "image/png": "[encoded data removed]",
      "text/plain": [
       "<Figure size 432x288 with 1 Axes>"
      ]
     },
     "metadata": {
      "needs_background": "light"
     },
     "output_type": "display_data"
    }
   ],
   "source": [
    "\n",
    "for i in range(20):\n",
    "    cov = 0.1*i -1\n",
    "    x = np.transpose(np.random.multivariate_normal( mean=[0,0],\n",
    "                                  cov=[[1,cov],[cov,1]],\n",
    "                                 size = 10000))\n",
    "    DE = DC.computeEnt(x, linReg, logMSEscorer, varEntropy, CVFold)\n",
    "    MI = DE[1,0] + DE[0,0] - DE[0,1] - DE[1,1]\n",
    "    MI = MI/2\n",
    "    plt.scatter(cov, MI, c='g')\n",
    "    plt.scatter(cov, -0.5*np.log(1-cov*cov), c='r')\n",
    "plt.show()"
   ]
  }
 ],
 "metadata": {
  "kernelspec": {
   "display_name": "Python 3",
   "language": "python",
   "name": "python3"
  },
  "language_info": {
   "codemirror_mode": {
    "name": "ipython",
    "version": 3
   },
   "file_extension": ".py",
   "mimetype": "text/x-python",
   "name": "python",
   "nbconvert_exporter": "python",
   "pygments_lexer": "ipython3",
   "version": "3.7.1"
  }
 },
 "nbformat": 4,
 "nbformat_minor": 2
}
