{
 "cells": [
  {
   "cell_type": "code",
   "execution_count": 76,
   "metadata": {},
   "outputs": [],
   "source": [
    "import numpy as np\n",
    "import pandas as pd\n",
    "import matplotlib.pyplot as plt\n",
    "import math\n",
    "from scipy.stats import randint\n",
    "import DiscreteCondEnt as DC"
   ]
  },
  {
   "cell_type": "code",
   "execution_count": 77,
   "metadata": {},
   "outputs": [],
   "source": [
    "from sklearn.metrics import mean_squared_error\n",
    "def MSEscorer(clf, X, y):\n",
    "    y_est = clf.predict(X)\n",
    "    return mean_squared_error(y, y_est)"
   ]
  },
  {
   "cell_type": "code",
   "execution_count": 78,
   "metadata": {},
   "outputs": [],
   "source": [
    "def varEntropy(y):\n",
    "    return np.var(y)"
   ]
  },
  {
   "cell_type": "code",
   "execution_count": 79,
   "metadata": {},
   "outputs": [],
   "source": [
    "from sklearn.linear_model import LinearRegression\n",
    "linReg = LinearRegression()"
   ]
  },
  {
   "cell_type": "code",
   "execution_count": 80,
   "metadata": {},
   "outputs": [],
   "source": [
    "x = np.random.multivariate_normal( mean=[0,0],\n",
    "                                  cov=[[1,1],[1,1]],\n",
    "                                 size = 300)\n",
    "x = np.transpose(x)"
   ]
  },
  {
   "cell_type": "code",
   "execution_count": 81,
   "metadata": {},
   "outputs": [
    {
     "name": "stdout",
     "output_type": "stream",
     "text": [
      "2  Discrete RVs with range [ -2.285202297357644 ,  3.8053815305467564 ]\n",
      "Resp\tCond\tH(Resp|Cond)\n",
      "0 \t [1] \t 1.159307166681144e-31\n",
      "1 \t [0] \t 6.580202714961447e-32\n"
     ]
    }
   ],
   "source": [
    "RVszie = 300\n",
    "numRV =2\n",
    "DEntropy = DC.computeEnt(x, linReg, logMSEscorer, varEntropy, CVFold)"
   ]
  },
  {
   "cell_type": "code",
   "execution_count": 82,
   "metadata": {},
   "outputs": [],
   "source": [
    "x2 = np.random.multivariate_normal( mean=[0,0],\n",
    "                                  cov=[[1,0],[0,1]],\n",
    "                                 size = 300)\n",
    "x2 = np.transpose(x2)"
   ]
  },
  {
   "cell_type": "code",
   "execution_count": 83,
   "metadata": {},
   "outputs": [
    {
     "name": "stdout",
     "output_type": "stream",
     "text": [
      "2  Discrete RVs with range [ -3.0802554368578043 ,  2.8818365071350898 ]\n",
      "Resp\tCond\tH(Resp|Cond)\n",
      "0 \t [1] \t 1.0649172017845805\n",
      "1 \t [0] \t 0.9814747401017968\n"
     ]
    }
   ],
   "source": [
    "RVszie = 300\n",
    "numRV =2\n",
    "DEntropy2 = DC.computeEnt(x2, linReg, logMSEscorer, varEntropy, CVFold)"
   ]
  },
  {
   "cell_type": "code",
   "execution_count": 84,
   "metadata": {},
   "outputs": [
    {
     "data": {
      "text/plain": [
       "array([[9.92152864e-01, 1.15930717e-31],\n",
       "       [9.92152864e-01, 6.58020271e-32]])"
      ]
     },
     "execution_count": 84,
     "metadata": {},
     "output_type": "execute_result"
    }
   ],
   "source": [
    "DEntropy"
   ]
  },
  {
   "cell_type": "code",
   "execution_count": 85,
   "metadata": {},
   "outputs": [
    {
     "name": "stdout",
     "output_type": "stream",
     "text": [
      "0.9921528638802749 0.9921528638802746\n"
     ]
    }
   ],
   "source": [
    "#MI\n",
    "MI12_1 = DEntropy[0,0] - DEntropy[0,1]\n",
    "MI12_2 = DEntropy[1,0] - DEntropy[1,1]\n",
    "print (MI12_1, MI12_2)"
   ]
  },
  {
   "cell_type": "code",
   "execution_count": 86,
   "metadata": {},
   "outputs": [],
   "source": [
    "import torch\n",
    "import torch.distributions as dist\n",
    "import torch.nn as nn\n",
    "import torch.optim as optim\n",
    "\n",
    "def build_cov_matrix(rho):\n",
    "    return torch.tensor([\n",
    "        [1, 0, 0, rho],\n",
    "        [0, 1, rho, 0],\n",
    "        [0, rho, 1, 0],\n",
    "        [rho, 0, 0, 1]]\n",
    "    ).float()\n",
    "\n",
    "\n",
    "lr = 0.001\n",
    "last_lr = 0.000001\n",
    "batch_size = 128\n",
    "total_iters = 2000\n",
    "display_step = 400\n",
    "\n",
    "\n",
    "def mi_theta(T, pos, neg):\n",
    "    return T(pos).mean() - T(neg).exp().mean().log()\n",
    "\n",
    "MINE = []\n",
    "LinReg = []\n",
    "GT = []\n",
    "COV = []"
   ]
  },
  {
   "cell_type": "code",
   "execution_count": 87,
   "metadata": {},
   "outputs": [
    {
     "name": "stdout",
     "output_type": "stream",
     "text": [
      "2  Discrete RVs with range [ -4.295517855602024 ,  3.4741747959258964 ]\n",
      "Resp\tCond\tH(Resp|Cond)\n",
      "0 \t [1] \t 0.18905277992763977\n",
      "1 \t [0] \t 0.18978995514161487\n",
      "2  Discrete RVs with range [ -3.749067999588906 ,  4.021720492858623 ]\n",
      "Resp\tCond\tH(Resp|Cond)\n",
      "0 \t [1] \t 0.35199562054947586\n",
      "1 \t [0] \t 0.3535186835253832\n",
      "2  Discrete RVs with range [ -3.9747709749394553 ,  3.6328885364871457 ]\n",
      "Resp\tCond\tH(Resp|Cond)\n",
      "0 \t [1] \t 0.5024588214613538\n",
      "1 \t [0] \t 0.5089344080032127\n",
      "2  Discrete RVs with range [ -3.9602411509548126 ,  3.786841978718815 ]\n",
      "Resp\tCond\tH(Resp|Cond)\n",
      "0 \t [1] \t 0.6450073220076162\n",
      "1 \t [0] \t 0.64702725179651\n",
      "2  Discrete RVs with range [ -4.004625821167195 ,  4.0228004836462405 ]\n",
      "Resp\tCond\tH(Resp|Cond)\n",
      "0 \t [1] \t 0.751937582781737\n",
      "1 \t [0] \t 0.7395331985130746\n",
      "2  Discrete RVs with range [ -3.8540767166893777 ,  3.8477848907990415 ]\n",
      "Resp\tCond\tH(Resp|Cond)\n",
      "0 \t [1] \t 0.8410736457739643\n",
      "1 \t [0] \t 0.8396121635007718\n",
      "2  Discrete RVs with range [ -5.048153337979251 ,  4.74426224152466 ]\n",
      "Resp\tCond\tH(Resp|Cond)\n",
      "0 \t [1] \t 0.9149935880208565\n",
      "1 \t [0] \t 0.9006979893899595\n",
      "2  Discrete RVs with range [ -3.7799013457754858 ,  4.123239329017386 ]\n",
      "Resp\tCond\tH(Resp|Cond)\n",
      "0 \t [1] \t 0.9579091177612155\n",
      "1 \t [0] \t 0.9418406564062788\n",
      "2  Discrete RVs with range [ -3.6882173171472643 ,  3.6143481456468267 ]\n",
      "Resp\tCond\tH(Resp|Cond)\n",
      "0 \t [1] \t 0.9830872443423743\n",
      "1 \t [0] \t 0.9701090587148623\n",
      "2  Discrete RVs with range [ -4.992354046415103 ,  3.82596850672506 ]\n",
      "Resp\tCond\tH(Resp|Cond)\n",
      "0 \t [1] \t 1.0350455182435623\n",
      "1 \t [0] \t 0.9899626183940272\n",
      "2  Discrete RVs with range [ -3.9924854230438354 ,  3.7587137232266974 ]\n",
      "Resp\tCond\tH(Resp|Cond)\n",
      "0 \t [1] \t 0.9939022268499779\n",
      "1 \t [0] \t 0.9813660827751113\n",
      "2  Discrete RVs with range [ -4.502180304957554 ,  3.882097395730157 ]\n",
      "Resp\tCond\tH(Resp|Cond)\n",
      "0 \t [1] \t 0.9506007157410462\n",
      "1 \t [0] \t 0.9747206922893538\n",
      "2  Discrete RVs with range [ -4.430461105683188 ,  4.006664897641205 ]\n",
      "Resp\tCond\tH(Resp|Cond)\n",
      "0 \t [1] \t 0.8958432903156252\n",
      "1 \t [0] \t 0.9002370780799138\n",
      "2  Discrete RVs with range [ -3.7185866543728223 ,  3.5308181626360224 ]\n",
      "Resp\tCond\tH(Resp|Cond)\n",
      "0 \t [1] \t 0.8198613223999963\n",
      "1 \t [0] \t 0.8445156120305475\n",
      "2  Discrete RVs with range [ -3.8354840519708047 ,  3.556412528110713 ]\n",
      "Resp\tCond\tH(Resp|Cond)\n",
      "0 \t [1] \t 0.7654749948452656\n",
      "1 \t [0] \t 0.7625149403867608\n",
      "2  Discrete RVs with range [ -4.1413889055663 ,  3.499607973263656 ]\n",
      "Resp\tCond\tH(Resp|Cond)\n",
      "0 \t [1] \t 0.6525357541515557\n",
      "1 \t [0] \t 0.6527608409373663\n",
      "2  Discrete RVs with range [ -3.702390405193884 ,  3.7472247302261277 ]\n",
      "Resp\tCond\tH(Resp|Cond)\n",
      "0 \t [1] \t 0.515854364507002\n",
      "1 \t [0] \t 0.511039375586684\n",
      "2  Discrete RVs with range [ -4.6699319020900925 ,  3.786767688051211 ]\n",
      "Resp\tCond\tH(Resp|Cond)\n",
      "0 \t [1] \t 0.37157849033901097\n",
      "1 \t [0] \t 0.3690062819603514\n",
      "2  Discrete RVs with range [ -4.134147139090116 ,  3.532398377518919 ]\n",
      "Resp\tCond\tH(Resp|Cond)\n",
      "0 \t [1] \t 0.1971188036537256\n",
      "1 \t [0] \t 0.19359001672911233\n"
     ]
    }
   ],
   "source": [
    "for i in range(19):\n",
    "    cov = 0.1*i - 0.9\n",
    "    COV.append(cov)\n",
    "    #MINE=========================================================\n",
    "    cov_matrix = build_cov_matrix(cov)\n",
    "    X_ab = dist.MultivariateNormal(torch.zeros(4), cov_matrix)\n",
    "    X_b = dist.MultivariateNormal(torch.zeros(2), cov_matrix[2:, 2:])\n",
    "\n",
    "    # network\n",
    "    T = nn.Sequential(\n",
    "        nn.Linear(4, 128),\n",
    "        nn.ReLU(),\n",
    "        nn.Linear(128, 1)\n",
    "    )\n",
    "\n",
    "    plot_loss = []\n",
    "    trainer = optim.SGD(T.parameters(), lr=lr, momentum=0.9)\n",
    "\n",
    "    #print('==================rho:%.2f=================' % cov)\n",
    "    for it in range(total_iters):\n",
    "        xab_samples = X_ab.sample((batch_size,))\n",
    "        xb_samples = X_b.sample((batch_size,))\n",
    "        neg_samples = torch.cat([xab_samples[:, :2], xb_samples], -1)\n",
    "\n",
    "        loss = - mi_theta(T, xab_samples, neg_samples)\n",
    "        trainer.zero_grad()\n",
    "        loss.backward()\n",
    "        trainer.step()\n",
    "        plot_loss.append(loss.item())\n",
    "\n",
    "        update_lr = lr - (lr - last_lr) * display_step / total_iters\n",
    "        for param_group in trainer.param_groups:\n",
    "            param_group['lr'] = update_lr\n",
    "\n",
    "        #if (it + 1) % display_step == 0:\n",
    "            #print('[Iter: %d] [loss: %.3f]' % (it, sum(plot_loss[-display_step:]) / display_step))\n",
    "\n",
    "    xab_test_samples = X_ab.sample((1000,))\n",
    "    xb_test_samples = X_b.sample((1000,))\n",
    "    neg_test_samples = torch.cat([xab_test_samples[:, :2], xb_test_samples], -1)\n",
    "    mi = mi_theta(T, xab_test_samples, neg_test_samples).mean().item()\n",
    "    MINE.append(mi)\n",
    "    #print('===================mi:%.2f=================' % mi)\n",
    "    #plt.scatter(cov, mi, c='b', label='MINE')\n",
    "    #MINE=========================================================\n",
    "    x = np.transpose(np.random.multivariate_normal( mean=[0,0],\n",
    "                                  cov=[[1,cov],[cov,1]],\n",
    "                                 size = 10000))\n",
    "    DE = DC.computeEnt(x, linReg, MSEscorer, varEntropy, CVFold)\n",
    "    MI = DE[1,0] + DE[0,0] - DE[0,1] - DE[1,1]\n",
    "    MI = MI/2\n",
    "    LinReg.append(MI)\n",
    "    #plt.scatter(cov, MI, c='g',label='KNN-regressor')\n",
    "    groundTruth = -0.5*np.log(1-cov*cov)\n",
    "    GT.append(groundTruth)\n",
    "    #plt.scatter(cov, groundTruth, c='r',label='ground truth')\n",
    "\n",
    "#plt.legend()\n",
    "#plt.show()"
   ]
  },
  {
   "cell_type": "code",
   "execution_count": 88,
   "metadata": {},
   "outputs": [
    {
     "data": {
      "image/png": "[encoded data removed]",
      "text/plain": [
       "<Figure size 432x288 with 1 Axes>"
      ]
     },
     "metadata": {
      "needs_background": "light"
     },
     "output_type": "display_data"
    }
   ],
   "source": [
    "fig, ax = plt.subplots()\n",
    "\n",
    "ax.scatter(COV, MINE, c='b', label='MINE')\n",
    "ax.scatter(COV, KNN, c='r', label='Linear Regression')\n",
    "ax.scatter(COV, GT, c='g', label='Ground Truth')\n",
    "\n",
    "ax.legend()\n",
    "plt.show()"
   ]
  }
 ],
 "metadata": {
  "kernelspec": {
   "display_name": "Python 3",
   "language": "python",
   "name": "python3"
  },
  "language_info": {
   "codemirror_mode": {
    "name": "ipython",
    "version": 3
   },
   "file_extension": ".py",
   "mimetype": "text/x-python",
   "name": "python",
   "nbconvert_exporter": "python",
   "pygments_lexer": "ipython3",
   "version": "3.7.0"
  }
 },
 "nbformat": 4,
 "nbformat_minor": 2
}
