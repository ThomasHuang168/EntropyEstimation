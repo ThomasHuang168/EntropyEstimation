{
 "cells": [
  {
   "cell_type": "code",
   "execution_count": 57,
   "metadata": {},
   "outputs": [],
   "source": [
    "import numpy as np\n",
    "import pandas as pd\n",
    "import matplotlib.pyplot as plt\n",
    "import math\n",
    "from scipy.stats import randint\n",
    "import DiscreteCondEnt as DC"
   ]
  },
  {
   "cell_type": "code",
   "execution_count": 58,
   "metadata": {},
   "outputs": [
    {
     "name": "stdout",
     "output_type": "stream",
     "text": [
      "[[0.40857816 0.12898502 0.64815199 ... 0.4330561  0.77680143 0.68277074]\n",
      " [0.60260943 0.44567753 0.52663571 ... 0.71952792 0.43105842 0.45784743]\n",
      " [0.01118759 0.57466254 0.17478769 ... 0.15258403 0.20785984 0.14061818]]\n"
     ]
    }
   ],
   "source": [
    "low, high, RVsize, numRV = 0, 1, 1000, 3\n",
    "depend = np.array([0, 1])\n",
    "rv = DC.getRandomVar_select(np.random.uniform, low, high, RVsize, numRV, depend)"
   ]
  },
  {
   "cell_type": "code",
   "execution_count": 59,
   "metadata": {},
   "outputs": [],
   "source": [
    "from sklearn.metrics import mean_squared_error\n",
    "def logMSEscorer(clf, X, y):\n",
    "    y_est = clf.predict(X)\n",
    "    return mean_squared_error(y, y_est)"
   ]
  },
  {
   "cell_type": "code",
   "execution_count": 60,
   "metadata": {},
   "outputs": [],
   "source": [
    "def varEntropy(y):\n",
    "    return np.var(y)"
   ]
  },
  {
   "cell_type": "code",
   "execution_count": 61,
   "metadata": {},
   "outputs": [
    {
     "name": "stdout",
     "output_type": "stream",
     "text": [
      "3  Discrete RVs with range [ 0.0001784465853386097 ,  0.9992909494649995 ]\n",
      "Resp\tCond\tH(Resp|Cond)\n",
      "0 \t [1] \t 0.11400639761444879\n",
      "0 \t [2] \t 0.11072181826710008\n",
      "0 \t [2 1] \t 0.012130421105304693\n",
      "1 \t [0] \t 0.10235033551504048\n",
      "1 \t [2] \t 0.10441765047704411\n",
      "1 \t [2 0] \t 0.013827286734525782\n",
      "2 \t [0] \t 0.10959202050242783\n",
      "2 \t [1] \t 0.11538385517082365\n",
      "2 \t [1 0] \t 0.015023402645676831\n"
     ]
    }
   ],
   "source": [
    "from sklearn.neighbors import KNeighborsRegressor\n",
    "regressor = KNeighborsRegressor(n_neighbors=numRV)\n",
    "\n",
    "CVFold = 3\n",
    "Entropy = DC.computeEnt(rv, regressor,logMSEscorer, varEntropy, CVFold)"
   ]
  },
  {
   "cell_type": "code",
   "execution_count": 62,
   "metadata": {},
   "outputs": [
    {
     "data": {
      "text/plain": [
       "array([[0.08411174, 0.1140064 , 0.11072182, 0.01213042],\n",
       "       [0.08099188, 0.10235034, 0.10441765, 0.01382729],\n",
       "       [0.08168811, 0.10959202, 0.11538386, 0.0150234 ]])"
      ]
     },
     "execution_count": 62,
     "metadata": {},
     "output_type": "execute_result"
    }
   ],
   "source": [
    "Entropy"
   ]
  },
  {
   "cell_type": "code",
   "execution_count": 63,
   "metadata": {},
   "outputs": [],
   "source": [
    "from sklearn.linear_model import LinearRegression\n",
    "linReg = LinearRegression()"
   ]
  },
  {
   "cell_type": "code",
   "execution_count": 64,
   "metadata": {},
   "outputs": [],
   "source": [
    "x = np.random.multivariate_normal( mean=[0,0],\n",
    "                                  cov=[[1,1],[1,1]],\n",
    "                                 size = 300)\n",
    "x = np.transpose(x)"
   ]
  },
  {
   "cell_type": "code",
   "execution_count": 65,
   "metadata": {},
   "outputs": [
    {
     "name": "stdout",
     "output_type": "stream",
     "text": [
      "2  Discrete RVs with range [ -3.5971375954033724 ,  2.5860788947179554 ]\n",
      "Resp\tCond\tH(Resp|Cond)\n",
      "0 \t [1] \t 1.387730609746962e-31\n",
      "1 \t [0] \t 1.013527279087011e-31\n"
     ]
    }
   ],
   "source": [
    "RVszie = 300\n",
    "numRV =2\n",
    "DEntropy = DC.computeEnt(x, linReg, logMSEscorer, varEntropy, CVFold)"
   ]
  },
  {
   "cell_type": "code",
   "execution_count": 66,
   "metadata": {},
   "outputs": [],
   "source": [
    "x2 = np.random.multivariate_normal( mean=[0,0],\n",
    "                                  cov=[[1,0],[0,1]],\n",
    "                                 size = 300)\n",
    "x2 = np.transpose(x2)"
   ]
  },
  {
   "cell_type": "code",
   "execution_count": 67,
   "metadata": {},
   "outputs": [
    {
     "name": "stdout",
     "output_type": "stream",
     "text": [
      "2  Discrete RVs with range [ -3.3892440470042686 ,  2.811276996140177 ]\n",
      "Resp\tCond\tH(Resp|Cond)\n",
      "0 \t [1] \t 1.0644300552361845\n",
      "1 \t [0] \t 1.0259305382121273\n"
     ]
    }
   ],
   "source": [
    "RVszie = 300\n",
    "numRV =2\n",
    "DEntropy2 = DC.computeEnt(x2, linReg, logMSEscorer, varEntropy, CVFold)"
   ]
  },
  {
   "cell_type": "code",
   "execution_count": 68,
   "metadata": {},
   "outputs": [
    {
     "data": {
      "text/plain": [
       "array([[9.87655336e-01, 1.38773061e-31],\n",
       "       [9.87655336e-01, 1.01352728e-31]])"
      ]
     },
     "execution_count": 68,
     "metadata": {},
     "output_type": "execute_result"
    }
   ],
   "source": [
    "DEntropy"
   ]
  },
  {
   "cell_type": "code",
   "execution_count": 69,
   "metadata": {},
   "outputs": [
    {
     "name": "stdout",
     "output_type": "stream",
     "text": [
      "0.9876553358746256 0.987655335874625\n"
     ]
    }
   ],
   "source": [
    "#MI\n",
    "MI12_1 = DEntropy[0,0] - DEntropy[0,1]\n",
    "MI12_2 = DEntropy[1,0] - DEntropy[1,1]\n",
    "print (MI12_1, MI12_2)"
   ]
  },
  {
   "cell_type": "code",
   "execution_count": 72,
   "metadata": {},
   "outputs": [],
   "source": [
    "import torch\n",
    "import torch.distributions as dist\n",
    "import torch.nn as nn\n",
    "import torch.optim as optim\n",
    "\n",
    "def build_cov_matrix(rho):\n",
    "    return torch.tensor([\n",
    "        [1, 0, 0, rho],\n",
    "        [0, 1, rho, 0],\n",
    "        [0, rho, 1, 0],\n",
    "        [rho, 0, 0, 1]]\n",
    "    ).float()\n",
    "\n",
    "\n",
    "lr = 0.001\n",
    "last_lr = 0.000001\n",
    "batch_size = 128\n",
    "total_iters = 2000\n",
    "display_step = 400\n",
    "\n",
    "\n",
    "def mi_theta(T, pos, neg):\n",
    "    return T(pos).mean() - T(neg).exp().mean().log()\n",
    "\n",
    "MINE = []\n",
    "KNN = []\n",
    "GT = []\n",
    "COV = []"
   ]
  },
  {
   "cell_type": "code",
   "execution_count": 73,
   "metadata": {},
   "outputs": [
    {
     "name": "stdout",
     "output_type": "stream",
     "text": [
      "2  Discrete RVs with range [ -3.8863769695903305 ,  3.801712571255828 ]\n",
      "Resp\tCond\tH(Resp|Cond)\n",
      "0 \t [1] \t 0.1908944530823021\n",
      "1 \t [0] \t 0.19047052160354558\n",
      "2  Discrete RVs with range [ -4.1066382244032855 ,  4.075174841188359 ]\n",
      "Resp\tCond\tH(Resp|Cond)\n",
      "0 \t [1] \t 0.36011205346841324\n",
      "1 \t [0] \t 0.3600017085334432\n",
      "2  Discrete RVs with range [ -4.030722618194002 ,  3.5334246327127774 ]\n",
      "Resp\tCond\tH(Resp|Cond)\n",
      "0 \t [1] \t 0.5198792483801896\n",
      "1 \t [0] \t 0.5087190828664893\n",
      "2  Discrete RVs with range [ -3.8425851477753845 ,  3.9346552343486496 ]\n",
      "Resp\tCond\tH(Resp|Cond)\n",
      "0 \t [1] \t 0.6257939878937115\n",
      "1 \t [0] \t 0.6580848896526562\n",
      "2  Discrete RVs with range [ -4.002876308578944 ,  4.470676231667122 ]\n",
      "Resp\tCond\tH(Resp|Cond)\n",
      "0 \t [1] \t 0.7294678381844689\n",
      "1 \t [0] \t 0.7555802810381023\n",
      "2  Discrete RVs with range [ -3.939632419268643 ,  3.6989318805852283 ]\n",
      "Resp\tCond\tH(Resp|Cond)\n",
      "0 \t [1] \t 0.8510990113866747\n",
      "1 \t [0] \t 0.8327112788811982\n",
      "2  Discrete RVs with range [ -4.174868223058559 ,  3.637962083325097 ]\n",
      "Resp\tCond\tH(Resp|Cond)\n",
      "0 \t [1] \t 0.9265620273818009\n",
      "1 \t [0] \t 0.8957127563560002\n",
      "2  Discrete RVs with range [ -4.2002977434689175 ,  3.770236735022971 ]\n",
      "Resp\tCond\tH(Resp|Cond)\n",
      "0 \t [1] \t 0.9761670166511397\n",
      "1 \t [0] \t 0.9558526318271722\n",
      "2  Discrete RVs with range [ -4.170492547853383 ,  4.029241304629814 ]\n",
      "Resp\tCond\tH(Resp|Cond)\n",
      "0 \t [1] \t 0.9887019058260157\n",
      "1 \t [0] \t 0.9868153161609552\n",
      "2  Discrete RVs with range [ -4.1875291555732295 ,  4.109508331897867 ]\n",
      "Resp\tCond\tH(Resp|Cond)\n",
      "0 \t [1] \t 0.9939493294057881\n",
      "1 \t [0] \t 1.0023273630028597\n",
      "2  Discrete RVs with range [ -4.79201833634624 ,  4.02884662108487 ]\n",
      "Resp\tCond\tH(Resp|Cond)\n",
      "0 \t [1] \t 0.9931342323622033\n",
      "1 \t [0] \t 0.977787816427138\n",
      "2  Discrete RVs with range [ -3.8218015387609974 ,  4.010602868428462 ]\n",
      "Resp\tCond\tH(Resp|Cond)\n",
      "0 \t [1] \t 0.9592945521759914\n",
      "1 \t [0] \t 0.9446804525815334\n",
      "2  Discrete RVs with range [ -3.7456465423250576 ,  4.340159714527994 ]\n",
      "Resp\tCond\tH(Resp|Cond)\n",
      "0 \t [1] \t 0.9167402073001106\n",
      "1 \t [0] \t 0.9095488153135146\n",
      "2  Discrete RVs with range [ -4.2268364047164555 ,  3.640294505871511 ]\n",
      "Resp\tCond\tH(Resp|Cond)\n",
      "0 \t [1] \t 0.8509334960391169\n",
      "1 \t [0] \t 0.8482712271975696\n",
      "2  Discrete RVs with range [ -3.8321113343900746 ,  3.896536865082591 ]\n",
      "Resp\tCond\tH(Resp|Cond)\n",
      "0 \t [1] \t 0.7628494014589172\n",
      "1 \t [0] \t 0.7480154095876809\n",
      "2  Discrete RVs with range [ -4.207129366644228 ,  4.659936852866674 ]\n",
      "Resp\tCond\tH(Resp|Cond)\n",
      "0 \t [1] \t 0.6423685521266009\n",
      "1 \t [0] \t 0.6320010007611805\n",
      "2  Discrete RVs with range [ -3.977769353410808 ,  4.516083925892018 ]\n",
      "Resp\tCond\tH(Resp|Cond)\n",
      "0 \t [1] \t 0.5131605144944827\n",
      "1 \t [0] \t 0.5223393924970123\n",
      "2  Discrete RVs with range [ -4.848642379957115 ,  3.9191296731646257 ]\n",
      "Resp\tCond\tH(Resp|Cond)\n",
      "0 \t [1] \t 0.356697116186496\n",
      "1 \t [0] \t 0.35791896017704644\n",
      "2  Discrete RVs with range [ -3.7543420857810057 ,  3.6534853522763413 ]\n",
      "Resp\tCond\tH(Resp|Cond)\n",
      "0 \t [1] \t 0.19073876225088784\n",
      "1 \t [0] \t 0.19108984988072233\n"
     ]
    }
   ],
   "source": [
    "for i in range(19):\n",
    "    cov = 0.1*i - 0.9\n",
    "    COV.append(cov)\n",
    "    #MINE=========================================================\n",
    "    cov_matrix = build_cov_matrix(cov)\n",
    "    X_ab = dist.MultivariateNormal(torch.zeros(4), cov_matrix)\n",
    "    X_b = dist.MultivariateNormal(torch.zeros(2), cov_matrix[2:, 2:])\n",
    "\n",
    "    # network\n",
    "    T = nn.Sequential(\n",
    "        nn.Linear(4, 128),\n",
    "        nn.ReLU(),\n",
    "        nn.Linear(128, 1)\n",
    "    )\n",
    "\n",
    "    plot_loss = []\n",
    "    trainer = optim.SGD(T.parameters(), lr=lr, momentum=0.9)\n",
    "\n",
    "    #print('==================rho:%.2f=================' % cov)\n",
    "    for it in range(total_iters):\n",
    "        xab_samples = X_ab.sample((batch_size,))\n",
    "        xb_samples = X_b.sample((batch_size,))\n",
    "        neg_samples = torch.cat([xab_samples[:, :2], xb_samples], -1)\n",
    "\n",
    "        loss = - mi_theta(T, xab_samples, neg_samples)\n",
    "        trainer.zero_grad()\n",
    "        loss.backward()\n",
    "        trainer.step()\n",
    "        plot_loss.append(loss.item())\n",
    "\n",
    "        update_lr = lr - (lr - last_lr) * display_step / total_iters\n",
    "        for param_group in trainer.param_groups:\n",
    "            param_group['lr'] = update_lr\n",
    "\n",
    "        #if (it + 1) % display_step == 0:\n",
    "            #print('[Iter: %d] [loss: %.3f]' % (it, sum(plot_loss[-display_step:]) / display_step))\n",
    "\n",
    "    xab_test_samples = X_ab.sample((1000,))\n",
    "    xb_test_samples = X_b.sample((1000,))\n",
    "    neg_test_samples = torch.cat([xab_test_samples[:, :2], xb_test_samples], -1)\n",
    "    mi = mi_theta(T, xab_test_samples, neg_test_samples).mean().item()\n",
    "    MINE.append(mi)\n",
    "    #print('===================mi:%.2f=================' % mi)\n",
    "    #plt.scatter(cov, mi, c='b', label='MINE')\n",
    "    #MINE=========================================================\n",
    "    x = np.transpose(np.random.multivariate_normal( mean=[0,0],\n",
    "                                  cov=[[1,cov],[cov,1]],\n",
    "                                 size = 10000))\n",
    "    DE = DC.computeEnt(x, linReg, logMSEscorer, varEntropy, CVFold)\n",
    "    MI = DE[1,0] + DE[0,0] - DE[0,1] - DE[1,1]\n",
    "    MI = MI/2\n",
    "    KNN.append(MI)\n",
    "    #plt.scatter(cov, MI, c='g',label='KNN-regressor')\n",
    "    groundTruth = -0.5*np.log(1-cov*cov)\n",
    "    GT.append(groundTruth)\n",
    "    #plt.scatter(cov, groundTruth, c='r',label='ground truth')\n",
    "\n",
    "#plt.legend()\n",
    "#plt.show()"
   ]
  },
  {
   "cell_type": "code",
   "execution_count": 75,
   "metadata": {},
   "outputs": [
    {
     "data": {
      "image/png": "[encoded data removed]",
      "text/plain": [
       "<Figure size 432x288 with 1 Axes>"
      ]
     },
     "metadata": {
      "needs_background": "light"
     },
     "output_type": "display_data"
    }
   ],
   "source": [
    "fig, ax = plt.subplots()\n",
    "\n",
    "ax.scatter(COV, MINE, c='b', label='MINE')\n",
    "ax.scatter(COV, KNN, c='r', label='KNN')\n",
    "ax.scatter(COV, GT, c='g', label='Ground Truth')\n",
    "\n",
    "ax.legend()\n",
    "plt.show()"
   ]
  }
 ],
 "metadata": {
  "kernelspec": {
   "display_name": "Python 3",
   "language": "python",
   "name": "python3"
  },
  "language_info": {
   "codemirror_mode": {
    "name": "ipython",
    "version": 3
   },
   "file_extension": ".py",
   "mimetype": "text/x-python",
   "name": "python",
   "nbconvert_exporter": "python",
   "pygments_lexer": "ipython3",
   "version": "3.7.0"
  }
 },
 "nbformat": 4,
 "nbformat_minor": 2
}
