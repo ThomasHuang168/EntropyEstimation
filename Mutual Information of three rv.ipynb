{
 "cells": [
  {
   "cell_type": "code",
   "execution_count": 4,
   "metadata": {},
   "outputs": [],
   "source": [
    "import numpy as np\n",
    "import pandas as pd\n",
    "from sklearn import preprocessing\n",
    "import matplotlib.pyplot as plt\n",
    "import math"
   ]
  },
  {
   "cell_type": "code",
   "execution_count": 37,
   "metadata": {},
   "outputs": [],
   "source": [
    "#unif = np.random.uniform(0, 1, 1000)\n",
    "#print(unif)"
   ]
  },
  {
   "cell_type": "code",
   "execution_count": 38,
   "metadata": {},
   "outputs": [],
   "source": [
    "from scipy.stats import randint\n",
    "low, high, RVsize = 0, 5, 1000\n",
    "rv1 = randint.rvs(low, high, size=RVsize)\n",
    "#print (\"RV1\")\n",
    "#print (rv1)\n",
    "rv2 = randint.rvs(low, high, size=RVsize)\n",
    "#print (\"RV2\")\n",
    "#print (rv2)\n",
    "rv3 = np.remainder(rv1+rv2, high)\n",
    "#print (\"RV3\")\n",
    "#print (rv3)"
   ]
  },
  {
   "cell_type": "code",
   "execution_count": 39,
   "metadata": {},
   "outputs": [
    {
     "name": "stdout",
     "output_type": "stream",
     "text": [
      "H(RV1)\n",
      "1.6078513547513669\n",
      "H(RV2)\n",
      "1.6066940810259855\n",
      "H(RV3)\n",
      "1.6076777429145293\n",
      "H(RV1XRV2)\n",
      "3.207170539553626\n",
      "H(RV2XRV3)\n",
      "3.2071705395536254\n",
      "H(RV3XRV1)\n",
      "3.207170539553626\n"
     ]
    }
   ],
   "source": [
    "#Entropy\n",
    "print(\"H(RV1)\")\n",
    "histRV1 = np.unique(rv1, return_counts=True)\n",
    "#print (histRV1)\n",
    "pmf_rv1 = np.array(histRV1)[1, :] / RVsize\n",
    "#print (pmf)\n",
    "#print (np.log(pmf))\n",
    "H_RV1 = -np.average(np.log(pmf_rv1), weights=pmf_rv1)\n",
    "print (H_RV1)\n",
    "\n",
    "print(\"H(RV2)\")\n",
    "histRV2 = np.unique(rv2, return_counts=True)\n",
    "#print (histRV1)\n",
    "pmf_rv2 = np.array(histRV2)[1, :] / RVsize\n",
    "#print (pmf)\n",
    "#print (np.log(pmf))\n",
    "H_RV2 = -np.average(np.log(pmf_rv2), weights=pmf_rv2)\n",
    "print (H_RV2)\n",
    "\n",
    "print(\"H(RV3)\")\n",
    "histRV3 = np.unique(rv3, return_counts=True)\n",
    "#print (histRV1)\n",
    "pmf_rv3 = np.array(histRV3)[1, :] / RVsize\n",
    "#print (pmf)\n",
    "#print (np.log(pmf))\n",
    "H_RV3 = -np.average(np.log(pmf_rv3), weights=pmf_rv3)\n",
    "print (H_RV3)\n",
    "\n",
    "print(\"H(RV1XRV2)\")\n",
    "rv12 = rv1*high+rv2\n",
    "histRV12 = np.unique(rv12, return_counts=True)\n",
    "#print (histRV1)\n",
    "pmf_rv12 = np.array(histRV12)[1, :] / RVsize\n",
    "#print (pmf)\n",
    "#print (np.log(pmf))\n",
    "H_RV12 = -np.average(np.log(pmf_rv12), weights=pmf_rv12)\n",
    "print (H_RV12)\n",
    "\n",
    "print(\"H(RV2XRV3)\")\n",
    "rv23 = rv2*high+rv3\n",
    "histRV23 = np.unique(rv23, return_counts=True)\n",
    "#print (histRV1)\n",
    "pmf_rv23 = np.array(histRV23)[1, :] / RVsize\n",
    "#print (pmf)\n",
    "#print (np.log(pmf))\n",
    "H_RV23 = -np.average(np.log(pmf_rv23), weights=pmf_rv23)\n",
    "print (H_RV23)\n",
    "\n",
    "print(\"H(RV3XRV1)\")\n",
    "rv31 = rv3*high+rv1\n",
    "histRV31 = np.unique(rv31, return_counts=True)\n",
    "#print (histRV1)\n",
    "pmf_rv31 = np.array(histRV31)[1, :] / RVsize\n",
    "#print (pmf)\n",
    "#print (np.log(pmf))\n",
    "H_RV31 = -np.average(np.log(pmf_rv31), weights=pmf_rv31)\n",
    "print (H_RV31)\n"
   ]
  },
  {
   "cell_type": "code",
   "execution_count": 40,
   "metadata": {},
   "outputs": [
    {
     "name": "stdout",
     "output_type": "stream",
     "text": [
      "MI(RV1^RV2)\n",
      "-0.007374896223726557\n",
      "MI(RV2^RV3)\n",
      "-0.007201284386889384\n",
      "MI(RV3^RV1)\n",
      "-0.008358558112270265\n"
     ]
    }
   ],
   "source": [
    "#Pairwise Mutual Information\n",
    "print(\"MI(RV1^RV2)\")\n",
    "MI12 = H_RV12 - H_RV1 - H_RV2\n",
    "print (MI12)\n",
    "print(\"MI(RV2^RV3)\")\n",
    "MI23 = H_RV23 - H_RV2 - H_RV3\n",
    "print (MI23)\n",
    "print(\"MI(RV3^RV1)\")\n",
    "MI31 = H_RV31- H_RV3 - H_RV1\n",
    "print (MI31)"
   ]
  }
 ],
 "metadata": {
  "kernelspec": {
   "display_name": "Python 3",
   "language": "python",
   "name": "python3"
  },
  "language_info": {
   "codemirror_mode": {
    "name": "ipython",
    "version": 3
   },
   "file_extension": ".py",
   "mimetype": "text/x-python",
   "name": "python",
   "nbconvert_exporter": "python",
   "pygments_lexer": "ipython3",
   "version": "3.6.7"
  }
 },
 "nbformat": 4,
 "nbformat_minor": 2
}
