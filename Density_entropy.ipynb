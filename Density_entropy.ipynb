{
 "cells": [
  {
   "cell_type": "code",
   "execution_count": 55,
   "metadata": {
    "collapsed": true
   },
   "outputs": [],
   "source": [
    "import numpy as np\n",
    "import pandas as pd\n",
    "from sklearn import preprocessing\n",
    "from sklearn.neighbors.kde import KernelDensity\n",
    "import matplotlib.pyplot as plt\n",
    "import math"
   ]
  },
  {
   "cell_type": "code",
   "execution_count": 56,
   "metadata": {
    "collapsed": true
   },
   "outputs": [],
   "source": [
    "from numpy import pi\n",
    "from scipy.linalg import det\n",
    "def entropy_gaussian(C):\n",
    "    '''\n",
    "    Entropy of a gaussian variable with covariance matrix C\n",
    "    '''\n",
    "    if np.isscalar(C): # C is the variance\n",
    "        return .5*(1 + np.log(2*pi)) + .5*np.log(C)\n",
    "    else:\n",
    "        n = C.shape[0] # dimension\n",
    "        return .5*n*(1 + np.log(2*pi)) + .5*np.log(abs(det(C)))"
   ]
  },
  {
   "cell_type": "code",
   "execution_count": 57,
   "metadata": {
    "collapsed": true
   },
   "outputs": [],
   "source": [
    "def entropy_Resub(X):\n",
    "    '''\n",
    "    resubstitution estimate\n",
    "    '''\n",
    "    kde = KernelDensity(kernel='gaussian', bandwidth=0.2).fit(X[:,None])\n",
    "    #score_sample returns the Log of the probability density\n",
    "    logprob = kde.score_samples(X[:,None])\n",
    "    return -np.mean(logprob)"
   ]
  },
  {
   "cell_type": "code",
   "execution_count": 58,
   "metadata": {
    "collapsed": true
   },
   "outputs": [],
   "source": [
    "from sklearn.model_selection import cross_val_score\n",
    "def entropy_SplitData(X):\n",
    "    '''\n",
    "    Splitting Data Estimate with cross validation\n",
    "    '''\n",
    "    kde = KernelDensity(kernel='gaussian', bandwidth=0.2).fit(X[:,None])\n",
    "    numFold = 5\n",
    "    TestSize = X.size/5\n",
    "    return -np.mean(cross_val_score(kde, s1[:,None], cv = 5))/TestSize"
   ]
  },
  {
   "cell_type": "code",
   "execution_count": 59,
   "metadata": {
    "collapsed": true
   },
   "outputs": [],
   "source": [
    "def entropy_Integral(X):\n",
    "    '''\n",
    "    Integral Estimate using summation\n",
    "    '''\n",
    "    kde = KernelDensity(kernel='gaussian', bandwidth=0.2).fit(X[:,None])\n",
    "    logprob = kde.score_samples(X[:,None])\n",
    "    return -np.average(logprob, weights=np.exp(logprob))"
   ]
  },
  {
   "cell_type": "code",
   "execution_count": 60,
   "metadata": {
    "collapsed": false
   },
   "outputs": [],
   "source": [
    "mean = 0\n",
    "stdv = 1\n",
    "size = 10000\n",
    "s1 = np.random.normal(mean, stdv, size)"
   ]
  },
  {
   "cell_type": "code",
   "execution_count": 61,
   "metadata": {
    "collapsed": false
   },
   "outputs": [
    {
     "name": "stdout",
     "output_type": "stream",
     "text": [
      "Histogram of the distribution\n"
     ]
    },
    {
     "data": {
      "image/png": "[encoded data removed]",
      "text/plain": [
       "<matplotlib.figure.Figure at 0xc5b50b8>"
      ]
     },
     "metadata": {},
     "output_type": "display_data"
    }
   ],
   "source": [
    "histogram = plt.hist(s1, bins=100)\n",
    "print (\"Histogram of the distribution\")\n",
    "plt.show()"
   ]
  },
  {
   "cell_type": "code",
   "execution_count": 63,
   "metadata": {
    "collapsed": false
   },
   "outputs": [
    {
     "name": "stdout",
     "output_type": "stream",
     "text": [
      "Ground truth of Entropy is:\n",
      "1.4189385332\n"
     ]
    }
   ],
   "source": [
    "print (\"Ground truth of Entropy is:\")\n",
    "print (entropy_gaussian(stdv))"
   ]
  },
  {
   "cell_type": "code",
   "execution_count": 64,
   "metadata": {
    "collapsed": false
   },
   "outputs": [
    {
     "name": "stdout",
     "output_type": "stream",
     "text": [
      "Resubstitution estimate of KDE Entropy is:\n",
      "1.42470295291\n"
     ]
    }
   ],
   "source": [
    "print (\"Resubstitution estimate of KDE Entropy is:\")\n",
    "print (entropy_Resub(s1))"
   ]
  },
  {
   "cell_type": "code",
   "execution_count": 65,
   "metadata": {
    "collapsed": false
   },
   "outputs": [
    {
     "name": "stdout",
     "output_type": "stream",
     "text": [
      "Splitting Data estimate of KDE Entropy is:\n",
      "1.42607309011\n"
     ]
    }
   ],
   "source": [
    "print (\"Splitting Data estimate of KDE Entropy is:\")\n",
    "print (entropy_SplitData(s1))"
   ]
  },
  {
   "cell_type": "code",
   "execution_count": 66,
   "metadata": {
    "collapsed": false
   },
   "outputs": [
    {
     "name": "stdout",
     "output_type": "stream",
     "text": [
      "Integral estimate of KDE Entropy is:\n",
      "1.18941482269\n"
     ]
    }
   ],
   "source": [
    "#Integral Estimate\n",
    "print (\"Integral estimate of KDE Entropy is:\")\n",
    "print (entropy_Integral(s1))"
   ]
  },
  {
   "cell_type": "code",
   "execution_count": null,
   "metadata": {
    "collapsed": true
   },
   "outputs": [],
   "source": [
    "'''\n",
    "print(s1.size)\n",
    "#print(s1)\n",
    "hist1 = np.histogram(s1, bins=100, range=(-60,60), density=True)\n",
    "kde = KernelDensity(kernel='gaussian', bandwidth=0.2).fit(s1[:,None])\n",
    "#score_sample returns the Log of the probability density\n",
    "logprob = kde.score_samples(s1[:,None])\n",
    "print (logprob.size)\n",
    "histogram = plt.hist(logprob, bins=100)\n",
    "plt.show()\n",
    "\n",
    "'''"
   ]
  }
 ],
 "metadata": {
  "anaconda-cloud": {},
  "kernelspec": {
   "display_name": "Python [default]",
   "language": "python",
   "name": "python3"
  },
  "language_info": {
   "codemirror_mode": {
    "name": "ipython",
    "version": 3
   },
   "file_extension": ".py",
   "mimetype": "text/x-python",
   "name": "python",
   "nbconvert_exporter": "python",
   "pygments_lexer": "ipython3",
   "version": "3.5.2"
  }
 },
 "nbformat": 4,
 "nbformat_minor": 1
}
