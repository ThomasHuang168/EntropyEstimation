{
 "cells": [
  {
   "cell_type": "code",
   "execution_count": 52,
   "metadata": {},
   "outputs": [],
   "source": [
    "import numpy as np\n",
    "import pandas as pd\n",
    "import matplotlib.pyplot as plt\n",
    "import math"
   ]
  },
  {
   "cell_type": "code",
   "execution_count": 53,
   "metadata": {},
   "outputs": [],
   "source": [
    "from scipy.stats import randint\n",
    "low, high, RVsize, numRV = 0, 5, 1000, 4\n",
    "rv = np.split(randint.rvs(low, high, size=RVsize*(numRV - 1)), numRV - 1)\n",
    "#print(rv)\n",
    "#print (np.shape(rv))\n",
    "#print (np.shape(np.remainder(np.sum(rv, axis=0), high)[None,:]))\n",
    "#print (np.append(rv, np.remainder(np.sum(rv, axis=0), high)[None,:], axis=0))\n",
    "rv = np.append(rv, np.remainder(np.sum(rv, axis=0), high)[None,:], axis=0)\n",
    "#print (rv)\n",
    "histRV = np.array(np.unique(rv[0], axis=0, return_counts=True)[1])[None,:]\n",
    "#print(rv[(0,2),:])\n",
    "#print (np.unique(rv[(0,1),:], axis=1, return_counts=True))\n",
    "histRV2 = np.array(np.unique(rv[(0,1),:], axis=1, return_counts=True)[1])[None,:]\n",
    "#print(histRV2)\n",
    "#histRV2 = np.array(np.unique(rv[0:2,:], axis=0, return_counts=True))[1,:][None,:]\n",
    "\n",
    "for i in range(1, numRV):\n",
    "    histRV = np.append(histRV, np.array(np.unique(rv[i], axis=0, return_counts=True)[1])[None,:], axis=0)\n",
    "    if i!=1:\n",
    "        for j in range(i):\n",
    "            histRV2 = np.append(histRV2, np.array(np.unique(rv[(j,i),:], axis=1, return_counts=True)[1])[None,:], axis=0)\n",
    "\n",
    "\n",
    "#histRV = np.unique(rv, axis=0, return_counts=True)\n",
    "#print(histRV2)"
   ]
  },
  {
   "cell_type": "code",
   "execution_count": 54,
   "metadata": {},
   "outputs": [],
   "source": [
    "pmfRV = histRV/RVsize\n",
    "pmfRV2 = histRV2/RVsize\n",
    "#print (pmfRV, pmfRV2)\n",
    "H = -np.average(np.log(pmfRV), weights=pmfRV, axis=1)\n",
    "#print (H)\n",
    "H2 = -np.average(np.log(pmfRV2), weights=pmfRV2, axis=1)\n",
    "#print (H2)"
   ]
  },
  {
   "cell_type": "code",
   "execution_count": 55,
   "metadata": {},
   "outputs": [
    {
     "name": "stdout",
     "output_type": "stream",
     "text": [
      "Mutual Information between  0  and  1  is  -0.011045583872144604\n",
      "Mutual Information between  0  and  2  is  -0.011509369151550652\n",
      "Mutual Information between  1  and  2  is  -0.0088797776278422\n",
      "Mutual Information between  0  and  3  is  -0.011579669111025925\n",
      "Mutual Information between  1  and  3  is  -0.012382801373783003\n",
      "Mutual Information between  2  and  3  is  -0.012316215337787595\n"
     ]
    }
   ],
   "source": [
    "MI = np.zeros(H2.shape)\n",
    "index = 0;\n",
    "for i in range(1, numRV):\n",
    "    for j in range(i):\n",
    "        #print(i*(i-1)/2+j)\n",
    "        MI[index] = H2[index] - H[i] - H[j]\n",
    "        print(\"Mutual Information between \", j, \" and \", i, \" is \", MI[index])\n",
    "        index = index + 1\n",
    "#print(MI)"
   ]
  }
 ],
 "metadata": {
  "kernelspec": {
   "display_name": "Python 3",
   "language": "python",
   "name": "python3"
  },
  "language_info": {
   "codemirror_mode": {
    "name": "ipython",
    "version": 3
   },
   "file_extension": ".py",
   "mimetype": "text/x-python",
   "name": "python",
   "nbconvert_exporter": "python",
   "pygments_lexer": "ipython3",
   "version": "3.6.7"
  }
 },
 "nbformat": 4,
 "nbformat_minor": 2
}
