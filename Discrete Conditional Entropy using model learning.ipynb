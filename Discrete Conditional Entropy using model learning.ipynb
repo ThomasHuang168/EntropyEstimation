{
 "cells": [
  {
   "cell_type": "code",
   "execution_count": 1,
   "metadata": {},
   "outputs": [],
   "source": [
    "import numpy as np\n",
    "import pandas as pd\n",
    "import matplotlib.pyplot as plt\n",
    "import math\n",
    "from scipy.stats import randint\n",
    "low, high, RVsize, numRV = 0, 5, 1000, 4\n",
    "rv = np.split(randint.rvs(low, high, size=RVsize*(numRV - 1)), numRV - 1)\n",
    "rv = np.append(rv, np.remainder(np.sum(rv, axis=0), high)[None,:], axis=0)\n",
    "histRV = np.array(np.unique(rv[0], axis=0, return_counts=True)[1])[None,:]\n",
    "histRV2 = np.array(np.unique(rv[(0,1),:], axis=1, return_counts=True)[1])[None,:]\n",
    "for i in range(1, numRV):\n",
    "    histRV = np.append(histRV, np.array(np.unique(rv[i], axis=0, return_counts=True)[1])[None,:], axis=0)\n",
    "    if i!=1:\n",
    "        for j in range(i):\n",
    "            histRV2 = np.append(histRV2, np.array(np.unique(rv[(j,i),:], axis=1, return_counts=True)[1])[None,:], axis=0)\n",
    "pmfRV = histRV/RVsize\n",
    "pmfRV2 = histRV2/RVsize\n",
    "H = -np.average(np.log(pmfRV), weights=pmfRV, axis=1)\n",
    "H2 = -np.average(np.log(pmfRV2), weights=pmfRV2, axis=1)\n",
    "MI = np.zeros(H2.shape)\n",
    "index = 0;\n",
    "for i in range(1, numRV):\n",
    "    for j in range(i):\n",
    "        MI[index] = H2[index] - H[i] - H[j]\n",
    "        index = index + 1"
   ]
  },
  {
   "cell_type": "code",
   "execution_count": 37,
   "metadata": {},
   "outputs": [],
   "source": [
    "from scipy.special import comb\n",
    "def subset(size, index):\n",
    "    subset = [-1]\n",
    "    sum = 0\n",
    "    for numOutput in range(size):\n",
    "        c = comb(size, numOutput)\n",
    "        if index >= sum + c:\n",
    "            sum += c\n",
    "        else:\n",
    "            break\n",
    "    #print (numOutput)\n",
    "    numLeft = numOutput\n",
    "    for candidate in range(size-1, -1, -1):\n",
    "        if index == sum:\n",
    "            for remaining in range(numLeft-1, -1, -1):\n",
    "                if subset[0] == -1:\n",
    "                    subset[0] = remaining\n",
    "                else:\n",
    "                    subset = np.append(subset, remaining)\n",
    "            break\n",
    "        elif 0 == numLeft:\n",
    "            break\n",
    "        elif (index - sum) >= comb(candidate, numLeft):\n",
    "            sum += comb(candidate, numLeft)\n",
    "            if subset[0] == -1:\n",
    "                subset[0] = candidate\n",
    "            else:\n",
    "                subset = np.append(subset, candidate)\n",
    "            numLeft -= 1\n",
    "    #print(output)\n",
    "    if subset[0] != -1:\n",
    "        return subset\n",
    "    "
   ]
  },
  {
   "cell_type": "code",
   "execution_count": 41,
   "metadata": {},
   "outputs": [
    {
     "name": "stdout",
     "output_type": "stream",
     "text": [
      "[2 1 0]\n"
     ]
    }
   ],
   "source": [
    "print(subset(5, 16))"
   ]
  },
  {
   "cell_type": "code",
   "execution_count": 48,
   "metadata": {},
   "outputs": [],
   "source": [
    "def ConditionSet(size, Resp, index):\n",
    "    set = subset(size - 1, index)\n",
    "    cond = [-1]\n",
    "    for element in set:\n",
    "        if element >= Resp:\n",
    "            element += 1\n",
    "        if cond[0] == -1:\n",
    "            cond[0] = element\n",
    "        else:\n",
    "            cond = np.append(cond, element)\n",
    "    return cond"
   ]
  },
  {
   "cell_type": "code",
   "execution_count": 81,
   "metadata": {},
   "outputs": [],
   "source": [
    "def DiscreteEntropy(y):\n",
    "    pmf = np.unique(y, return_counts=True, axis=y.ndim-1)[1]/y.size\n",
    "    return -np.average(np.log(pmf), weights=pmf)"
   ]
  },
  {
   "cell_type": "code",
   "execution_count": 84,
   "metadata": {},
   "outputs": [],
   "source": [
    "def CondEntropyScorer(estimator, X, y):\n",
    "    y_est = estimator.predict(X)\n",
    "    return DiscreteEntropy(np.array([y,y_est])) - DiscreteEntropy(y_est)\n",
    "    #pmfY_est = np.unique(y_est, return_counts=True)[1]/y_est.size\n",
    "    #HY_est = -np.average(np.log(pmfY_est), weights=pmfY_est)\n",
    "    #pmfYY = np.unique([y,y_est], return_counts=True, axis=1)[1]/y_est.size\n",
    "    #HYY = -np.average(np.log(pmfYY), weights=pmfYY)\n",
    "    #diff = np.abs(y-y_est).max()\n",
    "    #return HYY - HY_est"
   ]
  },
  {
   "cell_type": "code",
   "execution_count": 85,
   "metadata": {},
   "outputs": [
    {
     "name": "stdout",
     "output_type": "stream",
     "text": [
      "[2.26359779 2.2577532  2.28464841]\n"
     ]
    }
   ],
   "source": [
    "from sklearn import tree\n",
    "from sklearn.model_selection import cross_val_score\n",
    "#print(np.transpose(rv[ConditionSet(numRV, 0, 6)]))\n",
    "#print(rv[0])\n",
    "clf = tree.DecisionTreeClassifier()\n",
    "#clf = clf.fit(np.transpose(rv[ConditionSet(numRV, 0, 6)]), rv[0])\n",
    "#print (np.transpose(rv[ConditionSet(numRV, 0, 6), 0][:, None]))\n",
    "#clf.predict(np.transpose(rv[ConditionSet(numRV, 0, 6), 0][:, None]))\n",
    "print (cross_val_score(clf,np.transpose(rv[ConditionSet(numRV, 0, 6)]), rv[0], cv=3, scoring=CondEntropyScorer))"
   ]
  },
  {
   "cell_type": "code",
   "execution_count": 87,
   "metadata": {},
   "outputs": [],
   "source": [
    "numComb = np.power(2, numRV - 1)\n",
    "Entropy = np.zeros((numRV, numComb))\n",
    "CVFold = 3\n",
    "for Resp in range(numRV):\n",
    "    Entropy[Resp,0] = DiscreteEntropy(rv[Resp])\n",
    "    for sI in range(1, numComb):\n",
    "        Entropy[Resp,sI] = np.mean(cross_val_score(clf,np.transpose(rv[ConditionSet(numRV, Resp, sI)]), rv[Resp], cv=CVFold, scoring=CondEntropyScorer))"
   ]
  },
  {
   "cell_type": "code",
   "execution_count": 88,
   "metadata": {},
   "outputs": [
    {
     "data": {
      "text/plain": [
       "array([[1.60366556, 2.27492819, 2.27108138, 2.28797665, 2.27190833,\n",
       "        2.27041932, 2.26866647, 2.27190833],\n",
       "       [1.6060722 , 2.27554816, 2.28578606, 2.29361751, 2.27179159,\n",
       "        2.26736387, 2.27192031, 2.27179159],\n",
       "       [1.60779162, 2.27508102, 2.28774582, 2.29056029, 2.27197619,\n",
       "        2.27237191, 2.27893154, 2.27197619],\n",
       "       [1.60873656, 2.287451  , 2.28560451, 2.2841897 , 2.28492286,\n",
       "        2.27758752, 2.2706059 , 2.28492286]])"
      ]
     },
     "execution_count": 88,
     "metadata": {},
     "output_type": "execute_result"
    }
   ],
   "source": [
    "Entropy"
   ]
  }
 ],
 "metadata": {
  "kernelspec": {
   "display_name": "Python 3",
   "language": "python",
   "name": "python3"
  },
  "language_info": {
   "codemirror_mode": {
    "name": "ipython",
    "version": 3
   },
   "file_extension": ".py",
   "mimetype": "text/x-python",
   "name": "python",
   "nbconvert_exporter": "python",
   "pygments_lexer": "ipython3",
   "version": "3.6.7"
  }
 },
 "nbformat": 4,
 "nbformat_minor": 2
}
